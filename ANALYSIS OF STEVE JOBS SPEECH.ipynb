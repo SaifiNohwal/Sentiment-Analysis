{
 "cells": [
  {
   "cell_type": "markdown",
   "metadata": {},
   "source": [
    "# STEVE JOBS SPEECH ANALYSIS"
   ]
  },
  {
   "cell_type": "code",
   "execution_count": 26,
   "metadata": {},
   "outputs": [],
   "source": [
    "steve=\"\"\"I reached the pinnacle of success in the business world. In others’ eyes, my life is the epitome of success. However, aside from work, I have little joy. In the end, my wealth is only a fact of life that I am accustomed to. At this moment, lying on my bed and recalling my life, I realize that all the recognition and wealth that I took so much pride in have paled and become meaningless in the face of my death.\n",
    "\n",
    "You can employ someone to drive the car for you, make money for you, but you cannot have someone bear your sickness for you. Material things lost can be found or replaced. But there is one thing that can never be found when lost—Life. Whichever stage in life you’re in right now, with time, you will face the day when the curtain falls.\n",
    "\n",
    "Treasure love for your family, love for your spouse, love for your friends. Treat yourself well and cherish others. As we grow older, and hopefully wiser, we realize that a $3000 or a $30 watch both tell the same time. You will realize that your true inner happiness does not come from the material things of this world. Whether you fly first class or economy, if the plane goes down—you go down with it.\n",
    "\n",
    "Therefore, I hope you realize, when you have mates, buddies and old friends, brothers and sisters, who you chat with, laugh with, talk with, sing with, talk about north-south-east-west or heaven and earth, that is true happiness. Don’t educate your children to be rich. Educate them to be happy. So when they grow up they will know the value of things and not the price.\n",
    "\n",
    "Eat your food as your medicine, otherwise, you have to eat medicine as your food.\n",
    "\n",
    "The One who loves you will never leave you for another because, even if there are 100 reasons to give up, he or she will find a reason to hold on. There is a big difference between a human being and being human. Only a few really understand it. You are loved when you are born. You will be loved when you die. In between, you have to manage.\n",
    "\n",
    "The six best doctors in the world are sunlight, rest, exercise, diet, self-confidence, and friends. Maintain them in all stages and enjoy a healthy life.\"\"\""
   ]
  },
  {
   "cell_type": "code",
   "execution_count": 27,
   "metadata": {},
   "outputs": [
    {
     "data": {
      "text/plain": [
       "'I reached the pinnacle of success in the business world. In others’ eyes, my life is the epitome of success. However, aside from work, I have little joy. In the end, my wealth is only a fact of life that I am accustomed to. At this moment, lying on my bed and recalling my life, I realize that all the recognition and wealth that I took so much pride in have paled and become meaningless in the face of my death.\\n\\nYou can employ someone to drive the car for you, make money for you, but you cannot have someone bear your sickness for you. Material things lost can be found or replaced. But there is one thing that can never be found when lost—Life. Whichever stage in life you’re in right now, with time, you will face the day when the curtain falls.\\n\\nTreasure love for your family, love for your spouse, love for your friends. Treat yourself well and cherish others. As we grow older, and hopefully wiser, we realize that a $3000 or a $30 watch both tell the same time. You will realize that your true inner happiness does not come from the material things of this world. Whether you fly first class or economy, if the plane goes down—you go down with it.\\n\\nTherefore, I hope you realize, when you have mates, buddies and old friends, brothers and sisters, who you chat with, laugh with, talk with, sing with, talk about north-south-east-west or heaven and earth, that is true happiness. Don’t educate your children to be rich. Educate them to be happy. So when they grow up they will know the value of things and not the price.\\n\\nEat your food as your medicine, otherwise, you have to eat medicine as your food.\\n\\nThe One who loves you will never leave you for another because, even if there are 100 reasons to give up, he or she will find a reason to hold on. There is a big difference between a human being and being human. Only a few really understand it. You are loved when you are born. You will be loved when you die. In between, you have to manage.\\n\\nThe six best doctors in the world are sunlight, rest, exercise, diet, self-confidence, and friends. Maintain them in all stages and enjoy a healthy life.'"
      ]
     },
     "execution_count": 27,
     "metadata": {},
     "output_type": "execute_result"
    }
   ],
   "source": [
    "steve"
   ]
  },
  {
   "cell_type": "code",
   "execution_count": 28,
   "metadata": {},
   "outputs": [],
   "source": [
    "import numpy as np\n",
    "import pandas as pd\n",
    "import matplotlib.pyplot as plt\n",
    "import seaborn as sns\n",
    "import warnings\n",
    "warnings.filterwarnings('ignore')\n",
    "import plotly.express as px\n",
    "import plotly.graph_objects as go\n",
    "import re\n",
    "import nltk\n",
    "from nltk.corpus import stopwords\n",
    "from nltk.tokenize import sent_tokenize, word_tokenize\n",
    "from nltk.stem.porter import PorterStemmer\n",
    "from wordcloud import WordCloud, STOPWORDS\n"
   ]
  },
  {
   "cell_type": "code",
   "execution_count": 29,
   "metadata": {},
   "outputs": [],
   "source": [
    "def text_process(text):\n",
    "    text = text.lower() # step 1\n",
    "    text = re.sub('([^a-zA-Z])', ' ', text) # step 2,3\n",
    "    wt = word_tokenize(text) # step 4\n",
    "    sw = set(stopwords.words('english')) # step 5\n",
    "    root1 = PorterStemmer() # step 6\n",
    "       \n",
    "    text_clean = [root1.stem(word) for word in wt if word not in sw]\n",
    "    \n",
    "    \n",
    "    return text_clean"
   ]
  },
  {
   "cell_type": "code",
   "execution_count": 30,
   "metadata": {},
   "outputs": [],
   "source": [
    "steve_cleaned=text_process(steve)"
   ]
  },
  {
   "cell_type": "code",
   "execution_count": 31,
   "metadata": {},
   "outputs": [
    {
     "data": {
      "text/plain": [
       "['reach',\n",
       " 'pinnacl',\n",
       " 'success',\n",
       " 'busi',\n",
       " 'world',\n",
       " 'other',\n",
       " 'eye',\n",
       " 'life',\n",
       " 'epitom',\n",
       " 'success',\n",
       " 'howev',\n",
       " 'asid',\n",
       " 'work',\n",
       " 'littl',\n",
       " 'joy',\n",
       " 'end',\n",
       " 'wealth',\n",
       " 'fact',\n",
       " 'life',\n",
       " 'accustom',\n",
       " 'moment',\n",
       " 'lie',\n",
       " 'bed',\n",
       " 'recal',\n",
       " 'life',\n",
       " 'realiz',\n",
       " 'recognit',\n",
       " 'wealth',\n",
       " 'took',\n",
       " 'much',\n",
       " 'pride',\n",
       " 'pale',\n",
       " 'becom',\n",
       " 'meaningless',\n",
       " 'face',\n",
       " 'death',\n",
       " 'employ',\n",
       " 'someon',\n",
       " 'drive',\n",
       " 'car',\n",
       " 'make',\n",
       " 'money',\n",
       " 'someon',\n",
       " 'bear',\n",
       " 'sick',\n",
       " 'materi',\n",
       " 'thing',\n",
       " 'lost',\n",
       " 'found',\n",
       " 'replac',\n",
       " 'one',\n",
       " 'thing',\n",
       " 'never',\n",
       " 'found',\n",
       " 'lost',\n",
       " 'life',\n",
       " 'whichev',\n",
       " 'stage',\n",
       " 'life',\n",
       " 'right',\n",
       " 'time',\n",
       " 'face',\n",
       " 'day',\n",
       " 'curtain',\n",
       " 'fall',\n",
       " 'treasur',\n",
       " 'love',\n",
       " 'famili',\n",
       " 'love',\n",
       " 'spous',\n",
       " 'love',\n",
       " 'friend',\n",
       " 'treat',\n",
       " 'well',\n",
       " 'cherish',\n",
       " 'other',\n",
       " 'grow',\n",
       " 'older',\n",
       " 'hope',\n",
       " 'wiser',\n",
       " 'realiz',\n",
       " 'watch',\n",
       " 'tell',\n",
       " 'time',\n",
       " 'realiz',\n",
       " 'true',\n",
       " 'inner',\n",
       " 'happi',\n",
       " 'come',\n",
       " 'materi',\n",
       " 'thing',\n",
       " 'world',\n",
       " 'whether',\n",
       " 'fli',\n",
       " 'first',\n",
       " 'class',\n",
       " 'economi',\n",
       " 'plane',\n",
       " 'goe',\n",
       " 'go',\n",
       " 'therefor',\n",
       " 'hope',\n",
       " 'realiz',\n",
       " 'mate',\n",
       " 'buddi',\n",
       " 'old',\n",
       " 'friend',\n",
       " 'brother',\n",
       " 'sister',\n",
       " 'chat',\n",
       " 'laugh',\n",
       " 'talk',\n",
       " 'sing',\n",
       " 'talk',\n",
       " 'north',\n",
       " 'south',\n",
       " 'east',\n",
       " 'west',\n",
       " 'heaven',\n",
       " 'earth',\n",
       " 'true',\n",
       " 'happi',\n",
       " 'educ',\n",
       " 'children',\n",
       " 'rich',\n",
       " 'educ',\n",
       " 'happi',\n",
       " 'grow',\n",
       " 'know',\n",
       " 'valu',\n",
       " 'thing',\n",
       " 'price',\n",
       " 'eat',\n",
       " 'food',\n",
       " 'medicin',\n",
       " 'otherwis',\n",
       " 'eat',\n",
       " 'medicin',\n",
       " 'food',\n",
       " 'one',\n",
       " 'love',\n",
       " 'never',\n",
       " 'leav',\n",
       " 'anoth',\n",
       " 'even',\n",
       " 'reason',\n",
       " 'give',\n",
       " 'find',\n",
       " 'reason',\n",
       " 'hold',\n",
       " 'big',\n",
       " 'differ',\n",
       " 'human',\n",
       " 'human',\n",
       " 'realli',\n",
       " 'understand',\n",
       " 'love',\n",
       " 'born',\n",
       " 'love',\n",
       " 'die',\n",
       " 'manag',\n",
       " 'six',\n",
       " 'best',\n",
       " 'doctor',\n",
       " 'world',\n",
       " 'sunlight',\n",
       " 'rest',\n",
       " 'exercis',\n",
       " 'diet',\n",
       " 'self',\n",
       " 'confid',\n",
       " 'friend',\n",
       " 'maintain',\n",
       " 'stage',\n",
       " 'enjoy',\n",
       " 'healthi',\n",
       " 'life']"
      ]
     },
     "execution_count": 31,
     "metadata": {},
     "output_type": "execute_result"
    }
   ],
   "source": [
    "steve_cleaned"
   ]
  },
  {
   "cell_type": "code",
   "execution_count": 32,
   "metadata": {},
   "outputs": [
    {
     "name": "stderr",
     "output_type": "stream",
     "text": [
      "[nltk_data] Downloading package vader_lexicon to\n",
      "[nltk_data]     C:\\Users\\subha\\AppData\\Roaming\\nltk_data...\n",
      "[nltk_data]   Package vader_lexicon is already up-to-date!\n"
     ]
    },
    {
     "data": {
      "text/plain": [
       "True"
      ]
     },
     "execution_count": 32,
     "metadata": {},
     "output_type": "execute_result"
    }
   ],
   "source": [
    "from nltk.sentiment.vader import SentimentIntensityAnalyzer\n",
    "nltk.download('vader_lexicon')"
   ]
  },
  {
   "cell_type": "code",
   "execution_count": 33,
   "metadata": {},
   "outputs": [],
   "source": [
    "sent=SentimentIntensityAnalyzer()"
   ]
  },
  {
   "cell_type": "code",
   "execution_count": 34,
   "metadata": {},
   "outputs": [
    {
     "name": "stdout",
     "output_type": "stream",
     "text": [
      "[0.0258, 0.0, 0.5719, 0.0, 0.0, 0.0, 0.0, 0.0, 0.0, 0.5719, 0.0, 0.0, 0.0, 0.0, 0.5859, 0.0, 0.4939, 0.0, 0.0, 0.0, 0.0, 0.0, 0.0, 0.0, 0.0, 0.0, 0.0, 0.4939, 0.0, 0.0, 0.34, 0.0, 0.0, -0.4404, 0.0, -0.5994, 0.0, 0.0, 0.0, 0.0, 0.0, 0.0, 0.0, 0.0, -0.5106, 0.0, 0.0, -0.3182, 0.0, 0.0, 0.0, 0.0, 0.0, 0.0, -0.3182, 0.0, 0.0, 0.0, 0.0, 0.0, 0.0, 0.0, 0.0, 0.0, 0.0, 0.0, 0.6369, 0.0, 0.6369, 0.0, 0.6369, 0.4939, 0.4019, 0.2732, 0.3818, 0.0, 0.0, 0.0, 0.4404, 0.296, 0.0, 0.0, 0.0, 0.0, 0.0, 0.4215, 0.0, 0.0, 0.0, 0.0, 0.0, 0.0, 0.0, 0.0, 0.0, 0.0, 0.0, 0.0, 0.0, 0.0, 0.0, 0.4404, 0.0, 0.0, 0.0, 0.0, 0.4939, 0.0, 0.0, 0.0, 0.5574, 0.0, 0.0, 0.0, 0.0, 0.0, 0.0, 0.0, 0.5106, 0.0, 0.4215, 0.0, 0.0, 0.0, 0.5574, 0.0, 0.0, 0.0, 0.0, 0.0, 0.0, 0.0, 0.0, 0.0, 0.0, 0.0, 0.0, 0.0, 0.0, 0.0, 0.6369, 0.0, 0.0, 0.0, 0.0, 0.0, 0.0, 0.0, 0.0, 0.0, 0.0, 0.0, 0.0, 0.0, 0.0, 0.0, 0.6369, 0.0, 0.6369, -0.5994, 0.0, 0.0, 0.6369, 0.0, 0.0, 0.0, 0.0, 0.0, 0.0, 0.0, 0.0, 0.4939, 0.0, 0.0, 0.4939, 0.0, 0.0]\n"
     ]
    }
   ],
   "source": [
    "sentiment_scores=[sent.polarity_scores(word)[\"compound\"]for word in steve_cleaned]\n",
    "print(sentiment_scores)"
   ]
  },
  {
   "cell_type": "code",
   "execution_count": 35,
   "metadata": {},
   "outputs": [],
   "source": [
    "positive_words=[word for i,word  in enumerate(steve_cleaned) if sentiment_scores[i]>0.1]\n",
    "negative_words=[word for i,word in enumerate(steve_cleaned) if sentiment_scores[i]<-0.1]\n",
    "neutral_words=[word for i,word in enumerate(steve_cleaned) if sentiment_scores[i]>=-0.1 and \n",
    "               sentiment_scores[i]<=0.1]"
   ]
  },
  {
   "cell_type": "code",
   "execution_count": 36,
   "metadata": {},
   "outputs": [
    {
     "name": "stdout",
     "output_type": "stream",
     "text": [
      "positive words \n",
      " ['success', 'success', 'joy', 'wealth', 'wealth', 'pride', 'love', 'love', 'love', 'friend', 'treat', 'well', 'cherish', 'hope', 'wiser', 'true', 'hope', 'friend', 'laugh', 'heaven', 'true', 'rich', 'love', 'love', 'love', 'best', 'friend', 'enjoy']\n",
      "########################################\n",
      "negative words \n",
      " ['meaningless', 'death', 'sick', 'lost', 'lost', 'die']\n",
      "########################################\n",
      "neutral words \n",
      " ['reach', 'pinnacl', 'busi', 'world', 'other', 'eye', 'life', 'epitom', 'howev', 'asid', 'work', 'littl', 'end', 'fact', 'life', 'accustom', 'moment', 'lie', 'bed', 'recal', 'life', 'realiz', 'recognit', 'took', 'much', 'pale', 'becom', 'face', 'employ', 'someon', 'drive', 'car', 'make', 'money', 'someon', 'bear', 'materi', 'thing', 'found', 'replac', 'one', 'thing', 'never', 'found', 'life', 'whichev', 'stage', 'life', 'right', 'time', 'face', 'day', 'curtain', 'fall', 'treasur', 'famili', 'spous', 'other', 'grow', 'older', 'realiz', 'watch', 'tell', 'time', 'realiz', 'inner', 'happi', 'come', 'materi', 'thing', 'world', 'whether', 'fli', 'first', 'class', 'economi', 'plane', 'goe', 'go', 'therefor', 'realiz', 'mate', 'buddi', 'old', 'brother', 'sister', 'chat', 'talk', 'sing', 'talk', 'north', 'south', 'east', 'west', 'earth', 'happi', 'educ', 'children', 'educ', 'happi', 'grow', 'know', 'valu', 'thing', 'price', 'eat', 'food', 'medicin', 'otherwis', 'eat', 'medicin', 'food', 'one', 'never', 'leav', 'anoth', 'even', 'reason', 'give', 'find', 'reason', 'hold', 'big', 'differ', 'human', 'human', 'realli', 'understand', 'born', 'manag', 'six', 'doctor', 'world', 'sunlight', 'rest', 'exercis', 'diet', 'self', 'confid', 'maintain', 'stage', 'healthi', 'life']\n"
     ]
    }
   ],
   "source": [
    "print(\"positive words \\n\", positive_words)\n",
    "print(\"########\"*5)\n",
    "print(\"negative words \\n\", negative_words)\n",
    "print(\"########\"*5)\n",
    "print(\"neutral words \\n\", neutral_words)"
   ]
  },
  {
   "cell_type": "code",
   "execution_count": 37,
   "metadata": {},
   "outputs": [],
   "source": [
    "positive_word_freq=nltk.FreqDist(positive_words)\n",
    "negative_word_freq=nltk.FreqDist(negative_words)\n",
    "neutral_word_freq=nltk.FreqDist(neutral_words)"
   ]
  },
  {
   "cell_type": "code",
   "execution_count": 38,
   "metadata": {},
   "outputs": [
    {
     "name": "stdout",
     "output_type": "stream",
     "text": [
      "<FreqDist with 17 samples and 28 outcomes>\n"
     ]
    }
   ],
   "source": [
    "print(positive_word_freq)"
   ]
  },
  {
   "cell_type": "code",
   "execution_count": 39,
   "metadata": {},
   "outputs": [
    {
     "name": "stdout",
     "output_type": "stream",
     "text": [
      "<FreqDist with 5 samples and 6 outcomes>\n"
     ]
    }
   ],
   "source": [
    "print(negative_word_freq)"
   ]
  },
  {
   "cell_type": "code",
   "execution_count": 40,
   "metadata": {},
   "outputs": [
    {
     "name": "stdout",
     "output_type": "stream",
     "text": [
      "<FreqDist with 111 samples and 143 outcomes>\n"
     ]
    }
   ],
   "source": [
    "print(neutral_word_freq)"
   ]
  },
  {
   "cell_type": "code",
   "execution_count": 41,
   "metadata": {},
   "outputs": [],
   "source": [
    "df_positive=pd.DataFrame(positive_word_freq.most_common(25),columns=[\"Word\",\"Frequency\"])\n",
    "df_negative=pd.DataFrame(negative_word_freq.most_common(25),columns=[\"Word\",\"Frequency\"])\n",
    "df_neutral=pd.DataFrame(neutral_word_freq.most_common(25),columns=[\"Word\",\"Frequency\"])"
   ]
  },
  {
   "cell_type": "code",
   "execution_count": 42,
   "metadata": {},
   "outputs": [
    {
     "data": {
      "text/html": [
       "<div>\n",
       "<style scoped>\n",
       "    .dataframe tbody tr th:only-of-type {\n",
       "        vertical-align: middle;\n",
       "    }\n",
       "\n",
       "    .dataframe tbody tr th {\n",
       "        vertical-align: top;\n",
       "    }\n",
       "\n",
       "    .dataframe thead th {\n",
       "        text-align: right;\n",
       "    }\n",
       "</style>\n",
       "<table border=\"1\" class=\"dataframe\">\n",
       "  <thead>\n",
       "    <tr style=\"text-align: right;\">\n",
       "      <th></th>\n",
       "      <th>Word</th>\n",
       "      <th>Frequency</th>\n",
       "    </tr>\n",
       "  </thead>\n",
       "  <tbody>\n",
       "    <tr>\n",
       "      <th>0</th>\n",
       "      <td>love</td>\n",
       "      <td>6</td>\n",
       "    </tr>\n",
       "    <tr>\n",
       "      <th>1</th>\n",
       "      <td>friend</td>\n",
       "      <td>3</td>\n",
       "    </tr>\n",
       "    <tr>\n",
       "      <th>2</th>\n",
       "      <td>success</td>\n",
       "      <td>2</td>\n",
       "    </tr>\n",
       "    <tr>\n",
       "      <th>3</th>\n",
       "      <td>wealth</td>\n",
       "      <td>2</td>\n",
       "    </tr>\n",
       "    <tr>\n",
       "      <th>4</th>\n",
       "      <td>hope</td>\n",
       "      <td>2</td>\n",
       "    </tr>\n",
       "    <tr>\n",
       "      <th>5</th>\n",
       "      <td>true</td>\n",
       "      <td>2</td>\n",
       "    </tr>\n",
       "    <tr>\n",
       "      <th>6</th>\n",
       "      <td>joy</td>\n",
       "      <td>1</td>\n",
       "    </tr>\n",
       "    <tr>\n",
       "      <th>7</th>\n",
       "      <td>pride</td>\n",
       "      <td>1</td>\n",
       "    </tr>\n",
       "    <tr>\n",
       "      <th>8</th>\n",
       "      <td>treat</td>\n",
       "      <td>1</td>\n",
       "    </tr>\n",
       "    <tr>\n",
       "      <th>9</th>\n",
       "      <td>well</td>\n",
       "      <td>1</td>\n",
       "    </tr>\n",
       "    <tr>\n",
       "      <th>10</th>\n",
       "      <td>cherish</td>\n",
       "      <td>1</td>\n",
       "    </tr>\n",
       "    <tr>\n",
       "      <th>11</th>\n",
       "      <td>wiser</td>\n",
       "      <td>1</td>\n",
       "    </tr>\n",
       "    <tr>\n",
       "      <th>12</th>\n",
       "      <td>laugh</td>\n",
       "      <td>1</td>\n",
       "    </tr>\n",
       "    <tr>\n",
       "      <th>13</th>\n",
       "      <td>heaven</td>\n",
       "      <td>1</td>\n",
       "    </tr>\n",
       "    <tr>\n",
       "      <th>14</th>\n",
       "      <td>rich</td>\n",
       "      <td>1</td>\n",
       "    </tr>\n",
       "    <tr>\n",
       "      <th>15</th>\n",
       "      <td>best</td>\n",
       "      <td>1</td>\n",
       "    </tr>\n",
       "    <tr>\n",
       "      <th>16</th>\n",
       "      <td>enjoy</td>\n",
       "      <td>1</td>\n",
       "    </tr>\n",
       "  </tbody>\n",
       "</table>\n",
       "</div>"
      ],
      "text/plain": [
       "       Word  Frequency\n",
       "0      love          6\n",
       "1    friend          3\n",
       "2   success          2\n",
       "3    wealth          2\n",
       "4      hope          2\n",
       "5      true          2\n",
       "6       joy          1\n",
       "7     pride          1\n",
       "8     treat          1\n",
       "9      well          1\n",
       "10  cherish          1\n",
       "11    wiser          1\n",
       "12    laugh          1\n",
       "13   heaven          1\n",
       "14     rich          1\n",
       "15     best          1\n",
       "16    enjoy          1"
      ]
     },
     "execution_count": 42,
     "metadata": {},
     "output_type": "execute_result"
    }
   ],
   "source": [
    "df_positive"
   ]
  },
  {
   "cell_type": "code",
   "execution_count": 43,
   "metadata": {},
   "outputs": [
    {
     "data": {
      "application/vnd.plotly.v1+json": {
       "config": {
        "plotlyServerURL": "https://plot.ly"
       },
       "data": [
        {
         "alignmentgroup": "True",
         "hovertemplate": "Word=%{x}<br>Frequency=%{y}<extra></extra>",
         "legendgroup": "",
         "marker": {
          "color": "#636efa",
          "pattern": {
           "shape": ""
          }
         },
         "name": "",
         "offsetgroup": "",
         "orientation": "v",
         "showlegend": false,
         "textposition": "auto",
         "type": "bar",
         "x": [
          "love",
          "friend",
          "success",
          "wealth",
          "hope",
          "true",
          "joy",
          "pride",
          "treat",
          "well",
          "cherish",
          "wiser",
          "laugh",
          "heaven",
          "rich",
          "best",
          "enjoy"
         ],
         "xaxis": "x",
         "y": [
          6,
          3,
          2,
          2,
          2,
          2,
          1,
          1,
          1,
          1,
          1,
          1,
          1,
          1,
          1,
          1,
          1
         ],
         "yaxis": "y"
        }
       ],
       "layout": {
        "barmode": "relative",
        "legend": {
         "tracegroupgap": 0
        },
        "template": {
         "data": {
          "bar": [
           {
            "error_x": {
             "color": "#2a3f5f"
            },
            "error_y": {
             "color": "#2a3f5f"
            },
            "marker": {
             "line": {
              "color": "#E5ECF6",
              "width": 0.5
             },
             "pattern": {
              "fillmode": "overlay",
              "size": 10,
              "solidity": 0.2
             }
            },
            "type": "bar"
           }
          ],
          "barpolar": [
           {
            "marker": {
             "line": {
              "color": "#E5ECF6",
              "width": 0.5
             },
             "pattern": {
              "fillmode": "overlay",
              "size": 10,
              "solidity": 0.2
             }
            },
            "type": "barpolar"
           }
          ],
          "carpet": [
           {
            "aaxis": {
             "endlinecolor": "#2a3f5f",
             "gridcolor": "white",
             "linecolor": "white",
             "minorgridcolor": "white",
             "startlinecolor": "#2a3f5f"
            },
            "baxis": {
             "endlinecolor": "#2a3f5f",
             "gridcolor": "white",
             "linecolor": "white",
             "minorgridcolor": "white",
             "startlinecolor": "#2a3f5f"
            },
            "type": "carpet"
           }
          ],
          "choropleth": [
           {
            "colorbar": {
             "outlinewidth": 0,
             "ticks": ""
            },
            "type": "choropleth"
           }
          ],
          "contour": [
           {
            "colorbar": {
             "outlinewidth": 0,
             "ticks": ""
            },
            "colorscale": [
             [
              0,
              "#0d0887"
             ],
             [
              0.1111111111111111,
              "#46039f"
             ],
             [
              0.2222222222222222,
              "#7201a8"
             ],
             [
              0.3333333333333333,
              "#9c179e"
             ],
             [
              0.4444444444444444,
              "#bd3786"
             ],
             [
              0.5555555555555556,
              "#d8576b"
             ],
             [
              0.6666666666666666,
              "#ed7953"
             ],
             [
              0.7777777777777778,
              "#fb9f3a"
             ],
             [
              0.8888888888888888,
              "#fdca26"
             ],
             [
              1,
              "#f0f921"
             ]
            ],
            "type": "contour"
           }
          ],
          "contourcarpet": [
           {
            "colorbar": {
             "outlinewidth": 0,
             "ticks": ""
            },
            "type": "contourcarpet"
           }
          ],
          "heatmap": [
           {
            "colorbar": {
             "outlinewidth": 0,
             "ticks": ""
            },
            "colorscale": [
             [
              0,
              "#0d0887"
             ],
             [
              0.1111111111111111,
              "#46039f"
             ],
             [
              0.2222222222222222,
              "#7201a8"
             ],
             [
              0.3333333333333333,
              "#9c179e"
             ],
             [
              0.4444444444444444,
              "#bd3786"
             ],
             [
              0.5555555555555556,
              "#d8576b"
             ],
             [
              0.6666666666666666,
              "#ed7953"
             ],
             [
              0.7777777777777778,
              "#fb9f3a"
             ],
             [
              0.8888888888888888,
              "#fdca26"
             ],
             [
              1,
              "#f0f921"
             ]
            ],
            "type": "heatmap"
           }
          ],
          "heatmapgl": [
           {
            "colorbar": {
             "outlinewidth": 0,
             "ticks": ""
            },
            "colorscale": [
             [
              0,
              "#0d0887"
             ],
             [
              0.1111111111111111,
              "#46039f"
             ],
             [
              0.2222222222222222,
              "#7201a8"
             ],
             [
              0.3333333333333333,
              "#9c179e"
             ],
             [
              0.4444444444444444,
              "#bd3786"
             ],
             [
              0.5555555555555556,
              "#d8576b"
             ],
             [
              0.6666666666666666,
              "#ed7953"
             ],
             [
              0.7777777777777778,
              "#fb9f3a"
             ],
             [
              0.8888888888888888,
              "#fdca26"
             ],
             [
              1,
              "#f0f921"
             ]
            ],
            "type": "heatmapgl"
           }
          ],
          "histogram": [
           {
            "marker": {
             "pattern": {
              "fillmode": "overlay",
              "size": 10,
              "solidity": 0.2
             }
            },
            "type": "histogram"
           }
          ],
          "histogram2d": [
           {
            "colorbar": {
             "outlinewidth": 0,
             "ticks": ""
            },
            "colorscale": [
             [
              0,
              "#0d0887"
             ],
             [
              0.1111111111111111,
              "#46039f"
             ],
             [
              0.2222222222222222,
              "#7201a8"
             ],
             [
              0.3333333333333333,
              "#9c179e"
             ],
             [
              0.4444444444444444,
              "#bd3786"
             ],
             [
              0.5555555555555556,
              "#d8576b"
             ],
             [
              0.6666666666666666,
              "#ed7953"
             ],
             [
              0.7777777777777778,
              "#fb9f3a"
             ],
             [
              0.8888888888888888,
              "#fdca26"
             ],
             [
              1,
              "#f0f921"
             ]
            ],
            "type": "histogram2d"
           }
          ],
          "histogram2dcontour": [
           {
            "colorbar": {
             "outlinewidth": 0,
             "ticks": ""
            },
            "colorscale": [
             [
              0,
              "#0d0887"
             ],
             [
              0.1111111111111111,
              "#46039f"
             ],
             [
              0.2222222222222222,
              "#7201a8"
             ],
             [
              0.3333333333333333,
              "#9c179e"
             ],
             [
              0.4444444444444444,
              "#bd3786"
             ],
             [
              0.5555555555555556,
              "#d8576b"
             ],
             [
              0.6666666666666666,
              "#ed7953"
             ],
             [
              0.7777777777777778,
              "#fb9f3a"
             ],
             [
              0.8888888888888888,
              "#fdca26"
             ],
             [
              1,
              "#f0f921"
             ]
            ],
            "type": "histogram2dcontour"
           }
          ],
          "mesh3d": [
           {
            "colorbar": {
             "outlinewidth": 0,
             "ticks": ""
            },
            "type": "mesh3d"
           }
          ],
          "parcoords": [
           {
            "line": {
             "colorbar": {
              "outlinewidth": 0,
              "ticks": ""
             }
            },
            "type": "parcoords"
           }
          ],
          "pie": [
           {
            "automargin": true,
            "type": "pie"
           }
          ],
          "scatter": [
           {
            "fillpattern": {
             "fillmode": "overlay",
             "size": 10,
             "solidity": 0.2
            },
            "type": "scatter"
           }
          ],
          "scatter3d": [
           {
            "line": {
             "colorbar": {
              "outlinewidth": 0,
              "ticks": ""
             }
            },
            "marker": {
             "colorbar": {
              "outlinewidth": 0,
              "ticks": ""
             }
            },
            "type": "scatter3d"
           }
          ],
          "scattercarpet": [
           {
            "marker": {
             "colorbar": {
              "outlinewidth": 0,
              "ticks": ""
             }
            },
            "type": "scattercarpet"
           }
          ],
          "scattergeo": [
           {
            "marker": {
             "colorbar": {
              "outlinewidth": 0,
              "ticks": ""
             }
            },
            "type": "scattergeo"
           }
          ],
          "scattergl": [
           {
            "marker": {
             "colorbar": {
              "outlinewidth": 0,
              "ticks": ""
             }
            },
            "type": "scattergl"
           }
          ],
          "scattermapbox": [
           {
            "marker": {
             "colorbar": {
              "outlinewidth": 0,
              "ticks": ""
             }
            },
            "type": "scattermapbox"
           }
          ],
          "scatterpolar": [
           {
            "marker": {
             "colorbar": {
              "outlinewidth": 0,
              "ticks": ""
             }
            },
            "type": "scatterpolar"
           }
          ],
          "scatterpolargl": [
           {
            "marker": {
             "colorbar": {
              "outlinewidth": 0,
              "ticks": ""
             }
            },
            "type": "scatterpolargl"
           }
          ],
          "scatterternary": [
           {
            "marker": {
             "colorbar": {
              "outlinewidth": 0,
              "ticks": ""
             }
            },
            "type": "scatterternary"
           }
          ],
          "surface": [
           {
            "colorbar": {
             "outlinewidth": 0,
             "ticks": ""
            },
            "colorscale": [
             [
              0,
              "#0d0887"
             ],
             [
              0.1111111111111111,
              "#46039f"
             ],
             [
              0.2222222222222222,
              "#7201a8"
             ],
             [
              0.3333333333333333,
              "#9c179e"
             ],
             [
              0.4444444444444444,
              "#bd3786"
             ],
             [
              0.5555555555555556,
              "#d8576b"
             ],
             [
              0.6666666666666666,
              "#ed7953"
             ],
             [
              0.7777777777777778,
              "#fb9f3a"
             ],
             [
              0.8888888888888888,
              "#fdca26"
             ],
             [
              1,
              "#f0f921"
             ]
            ],
            "type": "surface"
           }
          ],
          "table": [
           {
            "cells": {
             "fill": {
              "color": "#EBF0F8"
             },
             "line": {
              "color": "white"
             }
            },
            "header": {
             "fill": {
              "color": "#C8D4E3"
             },
             "line": {
              "color": "white"
             }
            },
            "type": "table"
           }
          ]
         },
         "layout": {
          "annotationdefaults": {
           "arrowcolor": "#2a3f5f",
           "arrowhead": 0,
           "arrowwidth": 1
          },
          "autotypenumbers": "strict",
          "coloraxis": {
           "colorbar": {
            "outlinewidth": 0,
            "ticks": ""
           }
          },
          "colorscale": {
           "diverging": [
            [
             0,
             "#8e0152"
            ],
            [
             0.1,
             "#c51b7d"
            ],
            [
             0.2,
             "#de77ae"
            ],
            [
             0.3,
             "#f1b6da"
            ],
            [
             0.4,
             "#fde0ef"
            ],
            [
             0.5,
             "#f7f7f7"
            ],
            [
             0.6,
             "#e6f5d0"
            ],
            [
             0.7,
             "#b8e186"
            ],
            [
             0.8,
             "#7fbc41"
            ],
            [
             0.9,
             "#4d9221"
            ],
            [
             1,
             "#276419"
            ]
           ],
           "sequential": [
            [
             0,
             "#0d0887"
            ],
            [
             0.1111111111111111,
             "#46039f"
            ],
            [
             0.2222222222222222,
             "#7201a8"
            ],
            [
             0.3333333333333333,
             "#9c179e"
            ],
            [
             0.4444444444444444,
             "#bd3786"
            ],
            [
             0.5555555555555556,
             "#d8576b"
            ],
            [
             0.6666666666666666,
             "#ed7953"
            ],
            [
             0.7777777777777778,
             "#fb9f3a"
            ],
            [
             0.8888888888888888,
             "#fdca26"
            ],
            [
             1,
             "#f0f921"
            ]
           ],
           "sequentialminus": [
            [
             0,
             "#0d0887"
            ],
            [
             0.1111111111111111,
             "#46039f"
            ],
            [
             0.2222222222222222,
             "#7201a8"
            ],
            [
             0.3333333333333333,
             "#9c179e"
            ],
            [
             0.4444444444444444,
             "#bd3786"
            ],
            [
             0.5555555555555556,
             "#d8576b"
            ],
            [
             0.6666666666666666,
             "#ed7953"
            ],
            [
             0.7777777777777778,
             "#fb9f3a"
            ],
            [
             0.8888888888888888,
             "#fdca26"
            ],
            [
             1,
             "#f0f921"
            ]
           ]
          },
          "colorway": [
           "#636efa",
           "#EF553B",
           "#00cc96",
           "#ab63fa",
           "#FFA15A",
           "#19d3f3",
           "#FF6692",
           "#B6E880",
           "#FF97FF",
           "#FECB52"
          ],
          "font": {
           "color": "#2a3f5f"
          },
          "geo": {
           "bgcolor": "white",
           "lakecolor": "white",
           "landcolor": "#E5ECF6",
           "showlakes": true,
           "showland": true,
           "subunitcolor": "white"
          },
          "hoverlabel": {
           "align": "left"
          },
          "hovermode": "closest",
          "mapbox": {
           "style": "light"
          },
          "paper_bgcolor": "white",
          "plot_bgcolor": "#E5ECF6",
          "polar": {
           "angularaxis": {
            "gridcolor": "white",
            "linecolor": "white",
            "ticks": ""
           },
           "bgcolor": "#E5ECF6",
           "radialaxis": {
            "gridcolor": "white",
            "linecolor": "white",
            "ticks": ""
           }
          },
          "scene": {
           "xaxis": {
            "backgroundcolor": "#E5ECF6",
            "gridcolor": "white",
            "gridwidth": 2,
            "linecolor": "white",
            "showbackground": true,
            "ticks": "",
            "zerolinecolor": "white"
           },
           "yaxis": {
            "backgroundcolor": "#E5ECF6",
            "gridcolor": "white",
            "gridwidth": 2,
            "linecolor": "white",
            "showbackground": true,
            "ticks": "",
            "zerolinecolor": "white"
           },
           "zaxis": {
            "backgroundcolor": "#E5ECF6",
            "gridcolor": "white",
            "gridwidth": 2,
            "linecolor": "white",
            "showbackground": true,
            "ticks": "",
            "zerolinecolor": "white"
           }
          },
          "shapedefaults": {
           "line": {
            "color": "#2a3f5f"
           }
          },
          "ternary": {
           "aaxis": {
            "gridcolor": "white",
            "linecolor": "white",
            "ticks": ""
           },
           "baxis": {
            "gridcolor": "white",
            "linecolor": "white",
            "ticks": ""
           },
           "bgcolor": "#E5ECF6",
           "caxis": {
            "gridcolor": "white",
            "linecolor": "white",
            "ticks": ""
           }
          },
          "title": {
           "x": 0.05
          },
          "xaxis": {
           "automargin": true,
           "gridcolor": "white",
           "linecolor": "white",
           "ticks": "",
           "title": {
            "standoff": 15
           },
           "zerolinecolor": "white",
           "zerolinewidth": 2
          },
          "yaxis": {
           "automargin": true,
           "gridcolor": "white",
           "linecolor": "white",
           "ticks": "",
           "title": {
            "standoff": 15
           },
           "zerolinecolor": "white",
           "zerolinewidth": 2
          }
         }
        },
        "title": {
         "text": "top +ve words"
        },
        "xaxis": {
         "anchor": "y",
         "domain": [
          0,
          1
         ],
         "title": {
          "text": "Word"
         }
        },
        "yaxis": {
         "anchor": "x",
         "domain": [
          0,
          1
         ],
         "title": {
          "text": "Frequency"
         }
        }
       }
      }
     },
     "metadata": {},
     "output_type": "display_data"
    },
    {
     "data": {
      "application/vnd.plotly.v1+json": {
       "config": {
        "plotlyServerURL": "https://plot.ly"
       },
       "data": [
        {
         "alignmentgroup": "True",
         "hovertemplate": "Word=%{x}<br>Frequency=%{y}<extra></extra>",
         "legendgroup": "",
         "marker": {
          "color": "#636efa",
          "pattern": {
           "shape": ""
          }
         },
         "name": "",
         "offsetgroup": "",
         "orientation": "v",
         "showlegend": false,
         "textposition": "auto",
         "type": "bar",
         "x": [
          "lost",
          "meaningless",
          "death",
          "sick",
          "die"
         ],
         "xaxis": "x",
         "y": [
          2,
          1,
          1,
          1,
          1
         ],
         "yaxis": "y"
        }
       ],
       "layout": {
        "barmode": "relative",
        "legend": {
         "tracegroupgap": 0
        },
        "template": {
         "data": {
          "bar": [
           {
            "error_x": {
             "color": "#2a3f5f"
            },
            "error_y": {
             "color": "#2a3f5f"
            },
            "marker": {
             "line": {
              "color": "#E5ECF6",
              "width": 0.5
             },
             "pattern": {
              "fillmode": "overlay",
              "size": 10,
              "solidity": 0.2
             }
            },
            "type": "bar"
           }
          ],
          "barpolar": [
           {
            "marker": {
             "line": {
              "color": "#E5ECF6",
              "width": 0.5
             },
             "pattern": {
              "fillmode": "overlay",
              "size": 10,
              "solidity": 0.2
             }
            },
            "type": "barpolar"
           }
          ],
          "carpet": [
           {
            "aaxis": {
             "endlinecolor": "#2a3f5f",
             "gridcolor": "white",
             "linecolor": "white",
             "minorgridcolor": "white",
             "startlinecolor": "#2a3f5f"
            },
            "baxis": {
             "endlinecolor": "#2a3f5f",
             "gridcolor": "white",
             "linecolor": "white",
             "minorgridcolor": "white",
             "startlinecolor": "#2a3f5f"
            },
            "type": "carpet"
           }
          ],
          "choropleth": [
           {
            "colorbar": {
             "outlinewidth": 0,
             "ticks": ""
            },
            "type": "choropleth"
           }
          ],
          "contour": [
           {
            "colorbar": {
             "outlinewidth": 0,
             "ticks": ""
            },
            "colorscale": [
             [
              0,
              "#0d0887"
             ],
             [
              0.1111111111111111,
              "#46039f"
             ],
             [
              0.2222222222222222,
              "#7201a8"
             ],
             [
              0.3333333333333333,
              "#9c179e"
             ],
             [
              0.4444444444444444,
              "#bd3786"
             ],
             [
              0.5555555555555556,
              "#d8576b"
             ],
             [
              0.6666666666666666,
              "#ed7953"
             ],
             [
              0.7777777777777778,
              "#fb9f3a"
             ],
             [
              0.8888888888888888,
              "#fdca26"
             ],
             [
              1,
              "#f0f921"
             ]
            ],
            "type": "contour"
           }
          ],
          "contourcarpet": [
           {
            "colorbar": {
             "outlinewidth": 0,
             "ticks": ""
            },
            "type": "contourcarpet"
           }
          ],
          "heatmap": [
           {
            "colorbar": {
             "outlinewidth": 0,
             "ticks": ""
            },
            "colorscale": [
             [
              0,
              "#0d0887"
             ],
             [
              0.1111111111111111,
              "#46039f"
             ],
             [
              0.2222222222222222,
              "#7201a8"
             ],
             [
              0.3333333333333333,
              "#9c179e"
             ],
             [
              0.4444444444444444,
              "#bd3786"
             ],
             [
              0.5555555555555556,
              "#d8576b"
             ],
             [
              0.6666666666666666,
              "#ed7953"
             ],
             [
              0.7777777777777778,
              "#fb9f3a"
             ],
             [
              0.8888888888888888,
              "#fdca26"
             ],
             [
              1,
              "#f0f921"
             ]
            ],
            "type": "heatmap"
           }
          ],
          "heatmapgl": [
           {
            "colorbar": {
             "outlinewidth": 0,
             "ticks": ""
            },
            "colorscale": [
             [
              0,
              "#0d0887"
             ],
             [
              0.1111111111111111,
              "#46039f"
             ],
             [
              0.2222222222222222,
              "#7201a8"
             ],
             [
              0.3333333333333333,
              "#9c179e"
             ],
             [
              0.4444444444444444,
              "#bd3786"
             ],
             [
              0.5555555555555556,
              "#d8576b"
             ],
             [
              0.6666666666666666,
              "#ed7953"
             ],
             [
              0.7777777777777778,
              "#fb9f3a"
             ],
             [
              0.8888888888888888,
              "#fdca26"
             ],
             [
              1,
              "#f0f921"
             ]
            ],
            "type": "heatmapgl"
           }
          ],
          "histogram": [
           {
            "marker": {
             "pattern": {
              "fillmode": "overlay",
              "size": 10,
              "solidity": 0.2
             }
            },
            "type": "histogram"
           }
          ],
          "histogram2d": [
           {
            "colorbar": {
             "outlinewidth": 0,
             "ticks": ""
            },
            "colorscale": [
             [
              0,
              "#0d0887"
             ],
             [
              0.1111111111111111,
              "#46039f"
             ],
             [
              0.2222222222222222,
              "#7201a8"
             ],
             [
              0.3333333333333333,
              "#9c179e"
             ],
             [
              0.4444444444444444,
              "#bd3786"
             ],
             [
              0.5555555555555556,
              "#d8576b"
             ],
             [
              0.6666666666666666,
              "#ed7953"
             ],
             [
              0.7777777777777778,
              "#fb9f3a"
             ],
             [
              0.8888888888888888,
              "#fdca26"
             ],
             [
              1,
              "#f0f921"
             ]
            ],
            "type": "histogram2d"
           }
          ],
          "histogram2dcontour": [
           {
            "colorbar": {
             "outlinewidth": 0,
             "ticks": ""
            },
            "colorscale": [
             [
              0,
              "#0d0887"
             ],
             [
              0.1111111111111111,
              "#46039f"
             ],
             [
              0.2222222222222222,
              "#7201a8"
             ],
             [
              0.3333333333333333,
              "#9c179e"
             ],
             [
              0.4444444444444444,
              "#bd3786"
             ],
             [
              0.5555555555555556,
              "#d8576b"
             ],
             [
              0.6666666666666666,
              "#ed7953"
             ],
             [
              0.7777777777777778,
              "#fb9f3a"
             ],
             [
              0.8888888888888888,
              "#fdca26"
             ],
             [
              1,
              "#f0f921"
             ]
            ],
            "type": "histogram2dcontour"
           }
          ],
          "mesh3d": [
           {
            "colorbar": {
             "outlinewidth": 0,
             "ticks": ""
            },
            "type": "mesh3d"
           }
          ],
          "parcoords": [
           {
            "line": {
             "colorbar": {
              "outlinewidth": 0,
              "ticks": ""
             }
            },
            "type": "parcoords"
           }
          ],
          "pie": [
           {
            "automargin": true,
            "type": "pie"
           }
          ],
          "scatter": [
           {
            "fillpattern": {
             "fillmode": "overlay",
             "size": 10,
             "solidity": 0.2
            },
            "type": "scatter"
           }
          ],
          "scatter3d": [
           {
            "line": {
             "colorbar": {
              "outlinewidth": 0,
              "ticks": ""
             }
            },
            "marker": {
             "colorbar": {
              "outlinewidth": 0,
              "ticks": ""
             }
            },
            "type": "scatter3d"
           }
          ],
          "scattercarpet": [
           {
            "marker": {
             "colorbar": {
              "outlinewidth": 0,
              "ticks": ""
             }
            },
            "type": "scattercarpet"
           }
          ],
          "scattergeo": [
           {
            "marker": {
             "colorbar": {
              "outlinewidth": 0,
              "ticks": ""
             }
            },
            "type": "scattergeo"
           }
          ],
          "scattergl": [
           {
            "marker": {
             "colorbar": {
              "outlinewidth": 0,
              "ticks": ""
             }
            },
            "type": "scattergl"
           }
          ],
          "scattermapbox": [
           {
            "marker": {
             "colorbar": {
              "outlinewidth": 0,
              "ticks": ""
             }
            },
            "type": "scattermapbox"
           }
          ],
          "scatterpolar": [
           {
            "marker": {
             "colorbar": {
              "outlinewidth": 0,
              "ticks": ""
             }
            },
            "type": "scatterpolar"
           }
          ],
          "scatterpolargl": [
           {
            "marker": {
             "colorbar": {
              "outlinewidth": 0,
              "ticks": ""
             }
            },
            "type": "scatterpolargl"
           }
          ],
          "scatterternary": [
           {
            "marker": {
             "colorbar": {
              "outlinewidth": 0,
              "ticks": ""
             }
            },
            "type": "scatterternary"
           }
          ],
          "surface": [
           {
            "colorbar": {
             "outlinewidth": 0,
             "ticks": ""
            },
            "colorscale": [
             [
              0,
              "#0d0887"
             ],
             [
              0.1111111111111111,
              "#46039f"
             ],
             [
              0.2222222222222222,
              "#7201a8"
             ],
             [
              0.3333333333333333,
              "#9c179e"
             ],
             [
              0.4444444444444444,
              "#bd3786"
             ],
             [
              0.5555555555555556,
              "#d8576b"
             ],
             [
              0.6666666666666666,
              "#ed7953"
             ],
             [
              0.7777777777777778,
              "#fb9f3a"
             ],
             [
              0.8888888888888888,
              "#fdca26"
             ],
             [
              1,
              "#f0f921"
             ]
            ],
            "type": "surface"
           }
          ],
          "table": [
           {
            "cells": {
             "fill": {
              "color": "#EBF0F8"
             },
             "line": {
              "color": "white"
             }
            },
            "header": {
             "fill": {
              "color": "#C8D4E3"
             },
             "line": {
              "color": "white"
             }
            },
            "type": "table"
           }
          ]
         },
         "layout": {
          "annotationdefaults": {
           "arrowcolor": "#2a3f5f",
           "arrowhead": 0,
           "arrowwidth": 1
          },
          "autotypenumbers": "strict",
          "coloraxis": {
           "colorbar": {
            "outlinewidth": 0,
            "ticks": ""
           }
          },
          "colorscale": {
           "diverging": [
            [
             0,
             "#8e0152"
            ],
            [
             0.1,
             "#c51b7d"
            ],
            [
             0.2,
             "#de77ae"
            ],
            [
             0.3,
             "#f1b6da"
            ],
            [
             0.4,
             "#fde0ef"
            ],
            [
             0.5,
             "#f7f7f7"
            ],
            [
             0.6,
             "#e6f5d0"
            ],
            [
             0.7,
             "#b8e186"
            ],
            [
             0.8,
             "#7fbc41"
            ],
            [
             0.9,
             "#4d9221"
            ],
            [
             1,
             "#276419"
            ]
           ],
           "sequential": [
            [
             0,
             "#0d0887"
            ],
            [
             0.1111111111111111,
             "#46039f"
            ],
            [
             0.2222222222222222,
             "#7201a8"
            ],
            [
             0.3333333333333333,
             "#9c179e"
            ],
            [
             0.4444444444444444,
             "#bd3786"
            ],
            [
             0.5555555555555556,
             "#d8576b"
            ],
            [
             0.6666666666666666,
             "#ed7953"
            ],
            [
             0.7777777777777778,
             "#fb9f3a"
            ],
            [
             0.8888888888888888,
             "#fdca26"
            ],
            [
             1,
             "#f0f921"
            ]
           ],
           "sequentialminus": [
            [
             0,
             "#0d0887"
            ],
            [
             0.1111111111111111,
             "#46039f"
            ],
            [
             0.2222222222222222,
             "#7201a8"
            ],
            [
             0.3333333333333333,
             "#9c179e"
            ],
            [
             0.4444444444444444,
             "#bd3786"
            ],
            [
             0.5555555555555556,
             "#d8576b"
            ],
            [
             0.6666666666666666,
             "#ed7953"
            ],
            [
             0.7777777777777778,
             "#fb9f3a"
            ],
            [
             0.8888888888888888,
             "#fdca26"
            ],
            [
             1,
             "#f0f921"
            ]
           ]
          },
          "colorway": [
           "#636efa",
           "#EF553B",
           "#00cc96",
           "#ab63fa",
           "#FFA15A",
           "#19d3f3",
           "#FF6692",
           "#B6E880",
           "#FF97FF",
           "#FECB52"
          ],
          "font": {
           "color": "#2a3f5f"
          },
          "geo": {
           "bgcolor": "white",
           "lakecolor": "white",
           "landcolor": "#E5ECF6",
           "showlakes": true,
           "showland": true,
           "subunitcolor": "white"
          },
          "hoverlabel": {
           "align": "left"
          },
          "hovermode": "closest",
          "mapbox": {
           "style": "light"
          },
          "paper_bgcolor": "white",
          "plot_bgcolor": "#E5ECF6",
          "polar": {
           "angularaxis": {
            "gridcolor": "white",
            "linecolor": "white",
            "ticks": ""
           },
           "bgcolor": "#E5ECF6",
           "radialaxis": {
            "gridcolor": "white",
            "linecolor": "white",
            "ticks": ""
           }
          },
          "scene": {
           "xaxis": {
            "backgroundcolor": "#E5ECF6",
            "gridcolor": "white",
            "gridwidth": 2,
            "linecolor": "white",
            "showbackground": true,
            "ticks": "",
            "zerolinecolor": "white"
           },
           "yaxis": {
            "backgroundcolor": "#E5ECF6",
            "gridcolor": "white",
            "gridwidth": 2,
            "linecolor": "white",
            "showbackground": true,
            "ticks": "",
            "zerolinecolor": "white"
           },
           "zaxis": {
            "backgroundcolor": "#E5ECF6",
            "gridcolor": "white",
            "gridwidth": 2,
            "linecolor": "white",
            "showbackground": true,
            "ticks": "",
            "zerolinecolor": "white"
           }
          },
          "shapedefaults": {
           "line": {
            "color": "#2a3f5f"
           }
          },
          "ternary": {
           "aaxis": {
            "gridcolor": "white",
            "linecolor": "white",
            "ticks": ""
           },
           "baxis": {
            "gridcolor": "white",
            "linecolor": "white",
            "ticks": ""
           },
           "bgcolor": "#E5ECF6",
           "caxis": {
            "gridcolor": "white",
            "linecolor": "white",
            "ticks": ""
           }
          },
          "title": {
           "x": 0.05
          },
          "xaxis": {
           "automargin": true,
           "gridcolor": "white",
           "linecolor": "white",
           "ticks": "",
           "title": {
            "standoff": 15
           },
           "zerolinecolor": "white",
           "zerolinewidth": 2
          },
          "yaxis": {
           "automargin": true,
           "gridcolor": "white",
           "linecolor": "white",
           "ticks": "",
           "title": {
            "standoff": 15
           },
           "zerolinecolor": "white",
           "zerolinewidth": 2
          }
         }
        },
        "title": {
         "text": "top -ve words"
        },
        "xaxis": {
         "anchor": "y",
         "domain": [
          0,
          1
         ],
         "title": {
          "text": "Word"
         }
        },
        "yaxis": {
         "anchor": "x",
         "domain": [
          0,
          1
         ],
         "title": {
          "text": "Frequency"
         }
        }
       }
      }
     },
     "metadata": {},
     "output_type": "display_data"
    },
    {
     "data": {
      "application/vnd.plotly.v1+json": {
       "config": {
        "plotlyServerURL": "https://plot.ly"
       },
       "data": [
        {
         "alignmentgroup": "True",
         "hovertemplate": "Word=%{x}<br>Frequency=%{y}<extra></extra>",
         "legendgroup": "",
         "marker": {
          "color": "#636efa",
          "pattern": {
           "shape": ""
          }
         },
         "name": "",
         "offsetgroup": "",
         "orientation": "v",
         "showlegend": false,
         "textposition": "auto",
         "type": "bar",
         "x": [
          "life",
          "realiz",
          "thing",
          "world",
          "happi",
          "other",
          "face",
          "someon",
          "materi",
          "found",
          "one",
          "never",
          "stage",
          "time",
          "grow",
          "talk",
          "educ",
          "eat",
          "food",
          "medicin",
          "reason",
          "human",
          "reach",
          "pinnacl",
          "busi"
         ],
         "xaxis": "x",
         "y": [
          6,
          4,
          4,
          3,
          3,
          2,
          2,
          2,
          2,
          2,
          2,
          2,
          2,
          2,
          2,
          2,
          2,
          2,
          2,
          2,
          2,
          2,
          1,
          1,
          1
         ],
         "yaxis": "y"
        }
       ],
       "layout": {
        "barmode": "relative",
        "legend": {
         "tracegroupgap": 0
        },
        "template": {
         "data": {
          "bar": [
           {
            "error_x": {
             "color": "#2a3f5f"
            },
            "error_y": {
             "color": "#2a3f5f"
            },
            "marker": {
             "line": {
              "color": "#E5ECF6",
              "width": 0.5
             },
             "pattern": {
              "fillmode": "overlay",
              "size": 10,
              "solidity": 0.2
             }
            },
            "type": "bar"
           }
          ],
          "barpolar": [
           {
            "marker": {
             "line": {
              "color": "#E5ECF6",
              "width": 0.5
             },
             "pattern": {
              "fillmode": "overlay",
              "size": 10,
              "solidity": 0.2
             }
            },
            "type": "barpolar"
           }
          ],
          "carpet": [
           {
            "aaxis": {
             "endlinecolor": "#2a3f5f",
             "gridcolor": "white",
             "linecolor": "white",
             "minorgridcolor": "white",
             "startlinecolor": "#2a3f5f"
            },
            "baxis": {
             "endlinecolor": "#2a3f5f",
             "gridcolor": "white",
             "linecolor": "white",
             "minorgridcolor": "white",
             "startlinecolor": "#2a3f5f"
            },
            "type": "carpet"
           }
          ],
          "choropleth": [
           {
            "colorbar": {
             "outlinewidth": 0,
             "ticks": ""
            },
            "type": "choropleth"
           }
          ],
          "contour": [
           {
            "colorbar": {
             "outlinewidth": 0,
             "ticks": ""
            },
            "colorscale": [
             [
              0,
              "#0d0887"
             ],
             [
              0.1111111111111111,
              "#46039f"
             ],
             [
              0.2222222222222222,
              "#7201a8"
             ],
             [
              0.3333333333333333,
              "#9c179e"
             ],
             [
              0.4444444444444444,
              "#bd3786"
             ],
             [
              0.5555555555555556,
              "#d8576b"
             ],
             [
              0.6666666666666666,
              "#ed7953"
             ],
             [
              0.7777777777777778,
              "#fb9f3a"
             ],
             [
              0.8888888888888888,
              "#fdca26"
             ],
             [
              1,
              "#f0f921"
             ]
            ],
            "type": "contour"
           }
          ],
          "contourcarpet": [
           {
            "colorbar": {
             "outlinewidth": 0,
             "ticks": ""
            },
            "type": "contourcarpet"
           }
          ],
          "heatmap": [
           {
            "colorbar": {
             "outlinewidth": 0,
             "ticks": ""
            },
            "colorscale": [
             [
              0,
              "#0d0887"
             ],
             [
              0.1111111111111111,
              "#46039f"
             ],
             [
              0.2222222222222222,
              "#7201a8"
             ],
             [
              0.3333333333333333,
              "#9c179e"
             ],
             [
              0.4444444444444444,
              "#bd3786"
             ],
             [
              0.5555555555555556,
              "#d8576b"
             ],
             [
              0.6666666666666666,
              "#ed7953"
             ],
             [
              0.7777777777777778,
              "#fb9f3a"
             ],
             [
              0.8888888888888888,
              "#fdca26"
             ],
             [
              1,
              "#f0f921"
             ]
            ],
            "type": "heatmap"
           }
          ],
          "heatmapgl": [
           {
            "colorbar": {
             "outlinewidth": 0,
             "ticks": ""
            },
            "colorscale": [
             [
              0,
              "#0d0887"
             ],
             [
              0.1111111111111111,
              "#46039f"
             ],
             [
              0.2222222222222222,
              "#7201a8"
             ],
             [
              0.3333333333333333,
              "#9c179e"
             ],
             [
              0.4444444444444444,
              "#bd3786"
             ],
             [
              0.5555555555555556,
              "#d8576b"
             ],
             [
              0.6666666666666666,
              "#ed7953"
             ],
             [
              0.7777777777777778,
              "#fb9f3a"
             ],
             [
              0.8888888888888888,
              "#fdca26"
             ],
             [
              1,
              "#f0f921"
             ]
            ],
            "type": "heatmapgl"
           }
          ],
          "histogram": [
           {
            "marker": {
             "pattern": {
              "fillmode": "overlay",
              "size": 10,
              "solidity": 0.2
             }
            },
            "type": "histogram"
           }
          ],
          "histogram2d": [
           {
            "colorbar": {
             "outlinewidth": 0,
             "ticks": ""
            },
            "colorscale": [
             [
              0,
              "#0d0887"
             ],
             [
              0.1111111111111111,
              "#46039f"
             ],
             [
              0.2222222222222222,
              "#7201a8"
             ],
             [
              0.3333333333333333,
              "#9c179e"
             ],
             [
              0.4444444444444444,
              "#bd3786"
             ],
             [
              0.5555555555555556,
              "#d8576b"
             ],
             [
              0.6666666666666666,
              "#ed7953"
             ],
             [
              0.7777777777777778,
              "#fb9f3a"
             ],
             [
              0.8888888888888888,
              "#fdca26"
             ],
             [
              1,
              "#f0f921"
             ]
            ],
            "type": "histogram2d"
           }
          ],
          "histogram2dcontour": [
           {
            "colorbar": {
             "outlinewidth": 0,
             "ticks": ""
            },
            "colorscale": [
             [
              0,
              "#0d0887"
             ],
             [
              0.1111111111111111,
              "#46039f"
             ],
             [
              0.2222222222222222,
              "#7201a8"
             ],
             [
              0.3333333333333333,
              "#9c179e"
             ],
             [
              0.4444444444444444,
              "#bd3786"
             ],
             [
              0.5555555555555556,
              "#d8576b"
             ],
             [
              0.6666666666666666,
              "#ed7953"
             ],
             [
              0.7777777777777778,
              "#fb9f3a"
             ],
             [
              0.8888888888888888,
              "#fdca26"
             ],
             [
              1,
              "#f0f921"
             ]
            ],
            "type": "histogram2dcontour"
           }
          ],
          "mesh3d": [
           {
            "colorbar": {
             "outlinewidth": 0,
             "ticks": ""
            },
            "type": "mesh3d"
           }
          ],
          "parcoords": [
           {
            "line": {
             "colorbar": {
              "outlinewidth": 0,
              "ticks": ""
             }
            },
            "type": "parcoords"
           }
          ],
          "pie": [
           {
            "automargin": true,
            "type": "pie"
           }
          ],
          "scatter": [
           {
            "fillpattern": {
             "fillmode": "overlay",
             "size": 10,
             "solidity": 0.2
            },
            "type": "scatter"
           }
          ],
          "scatter3d": [
           {
            "line": {
             "colorbar": {
              "outlinewidth": 0,
              "ticks": ""
             }
            },
            "marker": {
             "colorbar": {
              "outlinewidth": 0,
              "ticks": ""
             }
            },
            "type": "scatter3d"
           }
          ],
          "scattercarpet": [
           {
            "marker": {
             "colorbar": {
              "outlinewidth": 0,
              "ticks": ""
             }
            },
            "type": "scattercarpet"
           }
          ],
          "scattergeo": [
           {
            "marker": {
             "colorbar": {
              "outlinewidth": 0,
              "ticks": ""
             }
            },
            "type": "scattergeo"
           }
          ],
          "scattergl": [
           {
            "marker": {
             "colorbar": {
              "outlinewidth": 0,
              "ticks": ""
             }
            },
            "type": "scattergl"
           }
          ],
          "scattermapbox": [
           {
            "marker": {
             "colorbar": {
              "outlinewidth": 0,
              "ticks": ""
             }
            },
            "type": "scattermapbox"
           }
          ],
          "scatterpolar": [
           {
            "marker": {
             "colorbar": {
              "outlinewidth": 0,
              "ticks": ""
             }
            },
            "type": "scatterpolar"
           }
          ],
          "scatterpolargl": [
           {
            "marker": {
             "colorbar": {
              "outlinewidth": 0,
              "ticks": ""
             }
            },
            "type": "scatterpolargl"
           }
          ],
          "scatterternary": [
           {
            "marker": {
             "colorbar": {
              "outlinewidth": 0,
              "ticks": ""
             }
            },
            "type": "scatterternary"
           }
          ],
          "surface": [
           {
            "colorbar": {
             "outlinewidth": 0,
             "ticks": ""
            },
            "colorscale": [
             [
              0,
              "#0d0887"
             ],
             [
              0.1111111111111111,
              "#46039f"
             ],
             [
              0.2222222222222222,
              "#7201a8"
             ],
             [
              0.3333333333333333,
              "#9c179e"
             ],
             [
              0.4444444444444444,
              "#bd3786"
             ],
             [
              0.5555555555555556,
              "#d8576b"
             ],
             [
              0.6666666666666666,
              "#ed7953"
             ],
             [
              0.7777777777777778,
              "#fb9f3a"
             ],
             [
              0.8888888888888888,
              "#fdca26"
             ],
             [
              1,
              "#f0f921"
             ]
            ],
            "type": "surface"
           }
          ],
          "table": [
           {
            "cells": {
             "fill": {
              "color": "#EBF0F8"
             },
             "line": {
              "color": "white"
             }
            },
            "header": {
             "fill": {
              "color": "#C8D4E3"
             },
             "line": {
              "color": "white"
             }
            },
            "type": "table"
           }
          ]
         },
         "layout": {
          "annotationdefaults": {
           "arrowcolor": "#2a3f5f",
           "arrowhead": 0,
           "arrowwidth": 1
          },
          "autotypenumbers": "strict",
          "coloraxis": {
           "colorbar": {
            "outlinewidth": 0,
            "ticks": ""
           }
          },
          "colorscale": {
           "diverging": [
            [
             0,
             "#8e0152"
            ],
            [
             0.1,
             "#c51b7d"
            ],
            [
             0.2,
             "#de77ae"
            ],
            [
             0.3,
             "#f1b6da"
            ],
            [
             0.4,
             "#fde0ef"
            ],
            [
             0.5,
             "#f7f7f7"
            ],
            [
             0.6,
             "#e6f5d0"
            ],
            [
             0.7,
             "#b8e186"
            ],
            [
             0.8,
             "#7fbc41"
            ],
            [
             0.9,
             "#4d9221"
            ],
            [
             1,
             "#276419"
            ]
           ],
           "sequential": [
            [
             0,
             "#0d0887"
            ],
            [
             0.1111111111111111,
             "#46039f"
            ],
            [
             0.2222222222222222,
             "#7201a8"
            ],
            [
             0.3333333333333333,
             "#9c179e"
            ],
            [
             0.4444444444444444,
             "#bd3786"
            ],
            [
             0.5555555555555556,
             "#d8576b"
            ],
            [
             0.6666666666666666,
             "#ed7953"
            ],
            [
             0.7777777777777778,
             "#fb9f3a"
            ],
            [
             0.8888888888888888,
             "#fdca26"
            ],
            [
             1,
             "#f0f921"
            ]
           ],
           "sequentialminus": [
            [
             0,
             "#0d0887"
            ],
            [
             0.1111111111111111,
             "#46039f"
            ],
            [
             0.2222222222222222,
             "#7201a8"
            ],
            [
             0.3333333333333333,
             "#9c179e"
            ],
            [
             0.4444444444444444,
             "#bd3786"
            ],
            [
             0.5555555555555556,
             "#d8576b"
            ],
            [
             0.6666666666666666,
             "#ed7953"
            ],
            [
             0.7777777777777778,
             "#fb9f3a"
            ],
            [
             0.8888888888888888,
             "#fdca26"
            ],
            [
             1,
             "#f0f921"
            ]
           ]
          },
          "colorway": [
           "#636efa",
           "#EF553B",
           "#00cc96",
           "#ab63fa",
           "#FFA15A",
           "#19d3f3",
           "#FF6692",
           "#B6E880",
           "#FF97FF",
           "#FECB52"
          ],
          "font": {
           "color": "#2a3f5f"
          },
          "geo": {
           "bgcolor": "white",
           "lakecolor": "white",
           "landcolor": "#E5ECF6",
           "showlakes": true,
           "showland": true,
           "subunitcolor": "white"
          },
          "hoverlabel": {
           "align": "left"
          },
          "hovermode": "closest",
          "mapbox": {
           "style": "light"
          },
          "paper_bgcolor": "white",
          "plot_bgcolor": "#E5ECF6",
          "polar": {
           "angularaxis": {
            "gridcolor": "white",
            "linecolor": "white",
            "ticks": ""
           },
           "bgcolor": "#E5ECF6",
           "radialaxis": {
            "gridcolor": "white",
            "linecolor": "white",
            "ticks": ""
           }
          },
          "scene": {
           "xaxis": {
            "backgroundcolor": "#E5ECF6",
            "gridcolor": "white",
            "gridwidth": 2,
            "linecolor": "white",
            "showbackground": true,
            "ticks": "",
            "zerolinecolor": "white"
           },
           "yaxis": {
            "backgroundcolor": "#E5ECF6",
            "gridcolor": "white",
            "gridwidth": 2,
            "linecolor": "white",
            "showbackground": true,
            "ticks": "",
            "zerolinecolor": "white"
           },
           "zaxis": {
            "backgroundcolor": "#E5ECF6",
            "gridcolor": "white",
            "gridwidth": 2,
            "linecolor": "white",
            "showbackground": true,
            "ticks": "",
            "zerolinecolor": "white"
           }
          },
          "shapedefaults": {
           "line": {
            "color": "#2a3f5f"
           }
          },
          "ternary": {
           "aaxis": {
            "gridcolor": "white",
            "linecolor": "white",
            "ticks": ""
           },
           "baxis": {
            "gridcolor": "white",
            "linecolor": "white",
            "ticks": ""
           },
           "bgcolor": "#E5ECF6",
           "caxis": {
            "gridcolor": "white",
            "linecolor": "white",
            "ticks": ""
           }
          },
          "title": {
           "x": 0.05
          },
          "xaxis": {
           "automargin": true,
           "gridcolor": "white",
           "linecolor": "white",
           "ticks": "",
           "title": {
            "standoff": 15
           },
           "zerolinecolor": "white",
           "zerolinewidth": 2
          },
          "yaxis": {
           "automargin": true,
           "gridcolor": "white",
           "linecolor": "white",
           "ticks": "",
           "title": {
            "standoff": 15
           },
           "zerolinecolor": "white",
           "zerolinewidth": 2
          }
         }
        },
        "title": {
         "text": "top neutral words"
        },
        "xaxis": {
         "anchor": "y",
         "domain": [
          0,
          1
         ],
         "title": {
          "text": "Word"
         }
        },
        "yaxis": {
         "anchor": "x",
         "domain": [
          0,
          1
         ],
         "title": {
          "text": "Frequency"
         }
        }
       }
      }
     },
     "metadata": {},
     "output_type": "display_data"
    }
   ],
   "source": [
    "positive_figure=px.bar(df_positive,x=\"Word\",y=\"Frequency\", title=\"top +ve words\")\n",
    "negative_figure=px.bar(df_negative,x=\"Word\",y=\"Frequency\", title=\"top -ve words\")\n",
    "neutral_figure=px.bar(df_neutral,x=\"Word\",y=\"Frequency\", title=\"top neutral words\")\n",
    "\n",
    "positive_figure.show()\n",
    "negative_figure.show()\n",
    "neutral_figure.show()"
   ]
  },
  {
   "cell_type": "code",
   "execution_count": 44,
   "metadata": {},
   "outputs": [],
   "source": [
    "wordcloud_positive=WordCloud().generate_from_frequencies(positive_word_freq)\n",
    "wordcloud_negative=WordCloud().generate_from_frequencies(negative_word_freq)\n",
    "wordcloud_neutral=WordCloud().generate_from_frequencies(neutral_word_freq)"
   ]
  },
  {
   "cell_type": "code",
   "execution_count": 45,
   "metadata": {},
   "outputs": [
    {
     "data": {
      "image/png": "[encoded data removed]",
      "text/plain": [
       "<Figure size 2000x1500 with 1 Axes>"
      ]
     },
     "metadata": {},
     "output_type": "display_data"
    }
   ],
   "source": [
    "plt.figure(figsize=(20,15))\n",
    "plt.imshow(wordcloud_positive)\n",
    "plt.title(\"Positive words\")\n",
    "plt.show()"
   ]
  },
  {
   "cell_type": "code",
   "execution_count": 46,
   "metadata": {},
   "outputs": [
    {
     "data": {
      "image/png": "[encoded data removed]",
      "text/plain": [
       "<Figure size 2000x1500 with 1 Axes>"
      ]
     },
     "metadata": {},
     "output_type": "display_data"
    }
   ],
   "source": [
    "plt.figure(figsize=(20,15))\n",
    "plt.imshow(wordcloud_negative)\n",
    "plt.title(\"negative words\")\n",
    "plt.show()"
   ]
  },
  {
   "cell_type": "code",
   "execution_count": 47,
   "metadata": {},
   "outputs": [
    {
     "data": {
      "image/png": "[encoded data removed]",
      "text/plain": [
       "<Figure size 2000x1500 with 1 Axes>"
      ]
     },
     "metadata": {},
     "output_type": "display_data"
    }
   ],
   "source": [
    "plt.figure(figsize=(20,15))\n",
    "plt.imshow(wordcloud_neutral)\n",
    "plt.title(\"neutral words\")\n",
    "plt.show()"
   ]
  },
  {
   "cell_type": "markdown",
   "metadata": {},
   "source": [
    "# SUMMARY OF STEVE JOBS SPEECH"
   ]
  },
  {
   "cell_type": "code",
   "execution_count": 48,
   "metadata": {},
   "outputs": [
    {
     "name": "stdout",
     "output_type": "stream",
     "text": [
      "Requirement already satisfied: spacy in c:\\users\\subha\\appdata\\local\\programs\\python\\python312\\lib\\site-packages (3.7.5)\n",
      "Collecting spacy\n",
      "  Downloading spacy-3.7.6-cp312-cp312-win_amd64.whl.metadata (27 kB)\n",
      "Requirement already satisfied: spacy-legacy<3.1.0,>=3.0.11 in c:\\users\\subha\\appdata\\local\\programs\\python\\python312\\lib\\site-packages (from spacy) (3.0.12)\n",
      "Requirement already satisfied: spacy-loggers<2.0.0,>=1.0.0 in c:\\users\\subha\\appdata\\local\\programs\\python\\python312\\lib\\site-packages (from spacy) (1.0.5)\n",
      "Requirement already satisfied: murmurhash<1.1.0,>=0.28.0 in c:\\users\\subha\\appdata\\local\\programs\\python\\python312\\lib\\site-packages (from spacy) (1.0.10)\n",
      "Requirement already satisfied: cymem<2.1.0,>=2.0.2 in c:\\users\\subha\\appdata\\local\\programs\\python\\python312\\lib\\site-packages (from spacy) (2.0.8)\n",
      "Requirement already satisfied: preshed<3.1.0,>=3.0.2 in c:\\users\\subha\\appdata\\local\\programs\\python\\python312\\lib\\site-packages (from spacy) (3.0.9)\n",
      "Requirement already satisfied: thinc<8.3.0,>=8.2.2 in c:\\users\\subha\\appdata\\local\\programs\\python\\python312\\lib\\site-packages (from spacy) (8.2.5)\n",
      "Requirement already satisfied: wasabi<1.2.0,>=0.9.1 in c:\\users\\subha\\appdata\\local\\programs\\python\\python312\\lib\\site-packages (from spacy) (1.1.3)\n",
      "Requirement already satisfied: srsly<3.0.0,>=2.4.3 in c:\\users\\subha\\appdata\\local\\programs\\python\\python312\\lib\\site-packages (from spacy) (2.4.8)\n",
      "Requirement already satisfied: catalogue<2.1.0,>=2.0.6 in c:\\users\\subha\\appdata\\local\\programs\\python\\python312\\lib\\site-packages (from spacy) (2.0.10)\n",
      "Requirement already satisfied: weasel<0.5.0,>=0.1.0 in c:\\users\\subha\\appdata\\local\\programs\\python\\python312\\lib\\site-packages (from spacy) (0.4.1)\n",
      "Requirement already satisfied: typer<1.0.0,>=0.3.0 in c:\\users\\subha\\appdata\\local\\programs\\python\\python312\\lib\\site-packages (from spacy) (0.12.3)\n",
      "Requirement already satisfied: tqdm<5.0.0,>=4.38.0 in c:\\users\\subha\\appdata\\local\\programs\\python\\python312\\lib\\site-packages (from spacy) (4.66.4)\n",
      "Requirement already satisfied: requests<3.0.0,>=2.13.0 in c:\\users\\subha\\appdata\\local\\programs\\python\\python312\\lib\\site-packages (from spacy) (2.32.3)\n",
      "Requirement already satisfied: pydantic!=1.8,!=1.8.1,<3.0.0,>=1.7.4 in c:\\users\\subha\\appdata\\local\\programs\\python\\python312\\lib\\site-packages (from spacy) (2.8.2)\n",
      "Requirement already satisfied: jinja2 in c:\\users\\subha\\appdata\\local\\programs\\python\\python312\\lib\\site-packages (from spacy) (3.1.4)\n",
      "Requirement already satisfied: setuptools in c:\\users\\subha\\appdata\\local\\programs\\python\\python312\\lib\\site-packages (from spacy) (72.1.0)\n",
      "Requirement already satisfied: packaging>=20.0 in c:\\users\\subha\\appdata\\roaming\\python\\python312\\site-packages (from spacy) (24.1)\n",
      "Requirement already satisfied: langcodes<4.0.0,>=3.2.0 in c:\\users\\subha\\appdata\\local\\programs\\python\\python312\\lib\\site-packages (from spacy) (3.4.0)\n",
      "Requirement already satisfied: numpy>=1.19.0 in c:\\users\\subha\\appdata\\local\\programs\\python\\python312\\lib\\site-packages (from spacy) (1.26.4)\n",
      "Requirement already satisfied: language-data>=1.2 in c:\\users\\subha\\appdata\\local\\programs\\python\\python312\\lib\\site-packages (from langcodes<4.0.0,>=3.2.0->spacy) (1.2.0)\n",
      "Requirement already satisfied: annotated-types>=0.4.0 in c:\\users\\subha\\appdata\\local\\programs\\python\\python312\\lib\\site-packages (from pydantic!=1.8,!=1.8.1,<3.0.0,>=1.7.4->spacy) (0.7.0)\n",
      "Requirement already satisfied: pydantic-core==2.20.1 in c:\\users\\subha\\appdata\\local\\programs\\python\\python312\\lib\\site-packages (from pydantic!=1.8,!=1.8.1,<3.0.0,>=1.7.4->spacy) (2.20.1)\n",
      "Requirement already satisfied: typing-extensions>=4.6.1 in c:\\users\\subha\\appdata\\local\\programs\\python\\python312\\lib\\site-packages (from pydantic!=1.8,!=1.8.1,<3.0.0,>=1.7.4->spacy) (4.12.2)\n",
      "Requirement already satisfied: charset-normalizer<4,>=2 in c:\\users\\subha\\appdata\\local\\programs\\python\\python312\\lib\\site-packages (from requests<3.0.0,>=2.13.0->spacy) (3.3.2)\n",
      "Requirement already satisfied: idna<4,>=2.5 in c:\\users\\subha\\appdata\\local\\programs\\python\\python312\\lib\\site-packages (from requests<3.0.0,>=2.13.0->spacy) (3.7)\n",
      "Requirement already satisfied: urllib3<3,>=1.21.1 in c:\\users\\subha\\appdata\\local\\programs\\python\\python312\\lib\\site-packages (from requests<3.0.0,>=2.13.0->spacy) (2.2.2)\n",
      "Requirement already satisfied: certifi>=2017.4.17 in c:\\users\\subha\\appdata\\local\\programs\\python\\python312\\lib\\site-packages (from requests<3.0.0,>=2.13.0->spacy) (2024.7.4)\n",
      "Requirement already satisfied: blis<0.8.0,>=0.7.8 in c:\\users\\subha\\appdata\\local\\programs\\python\\python312\\lib\\site-packages (from thinc<8.3.0,>=8.2.2->spacy) (0.7.11)\n",
      "Requirement already satisfied: confection<1.0.0,>=0.0.1 in c:\\users\\subha\\appdata\\local\\programs\\python\\python312\\lib\\site-packages (from thinc<8.3.0,>=8.2.2->spacy) (0.1.5)\n",
      "Requirement already satisfied: colorama in c:\\users\\subha\\appdata\\roaming\\python\\python312\\site-packages (from tqdm<5.0.0,>=4.38.0->spacy) (0.4.6)\n",
      "Requirement already satisfied: click>=8.0.0 in c:\\users\\subha\\appdata\\local\\programs\\python\\python312\\lib\\site-packages (from typer<1.0.0,>=0.3.0->spacy) (8.1.7)\n",
      "Requirement already satisfied: shellingham>=1.3.0 in c:\\users\\subha\\appdata\\local\\programs\\python\\python312\\lib\\site-packages (from typer<1.0.0,>=0.3.0->spacy) (1.5.4)\n",
      "Requirement already satisfied: rich>=10.11.0 in c:\\users\\subha\\appdata\\local\\programs\\python\\python312\\lib\\site-packages (from typer<1.0.0,>=0.3.0->spacy) (13.7.1)\n",
      "Requirement already satisfied: cloudpathlib<1.0.0,>=0.7.0 in c:\\users\\subha\\appdata\\local\\programs\\python\\python312\\lib\\site-packages (from weasel<0.5.0,>=0.1.0->spacy) (0.18.1)\n",
      "Requirement already satisfied: smart-open<8.0.0,>=5.2.1 in c:\\users\\subha\\appdata\\local\\programs\\python\\python312\\lib\\site-packages (from weasel<0.5.0,>=0.1.0->spacy) (7.0.4)\n",
      "Requirement already satisfied: MarkupSafe>=2.0 in c:\\users\\subha\\appdata\\local\\programs\\python\\python312\\lib\\site-packages (from jinja2->spacy) (2.1.5)\n",
      "Requirement already satisfied: marisa-trie>=0.7.7 in c:\\users\\subha\\appdata\\local\\programs\\python\\python312\\lib\\site-packages (from language-data>=1.2->langcodes<4.0.0,>=3.2.0->spacy) (1.2.0)\n",
      "Requirement already satisfied: markdown-it-py>=2.2.0 in c:\\users\\subha\\appdata\\local\\programs\\python\\python312\\lib\\site-packages (from rich>=10.11.0->typer<1.0.0,>=0.3.0->spacy) (3.0.0)\n",
      "Requirement already satisfied: pygments<3.0.0,>=2.13.0 in c:\\users\\subha\\appdata\\roaming\\python\\python312\\site-packages (from rich>=10.11.0->typer<1.0.0,>=0.3.0->spacy) (2.18.0)\n",
      "Requirement already satisfied: wrapt in c:\\users\\subha\\appdata\\local\\programs\\python\\python312\\lib\\site-packages (from smart-open<8.0.0,>=5.2.1->weasel<0.5.0,>=0.1.0->spacy) (1.16.0)\n",
      "Requirement already satisfied: mdurl~=0.1 in c:\\users\\subha\\appdata\\local\\programs\\python\\python312\\lib\\site-packages (from markdown-it-py>=2.2.0->rich>=10.11.0->typer<1.0.0,>=0.3.0->spacy) (0.1.2)\n",
      "Downloading spacy-3.7.6-cp312-cp312-win_amd64.whl (11.7 MB)\n",
      "   ---------------------------------------- 0.0/11.7 MB ? eta -:--:--\n",
      "   ---------------------------------------- 0.0/11.7 MB ? eta -:--:--\n",
      "    --------------------------------------- 0.3/11.7 MB ? eta -:--:--\n",
      "    --------------------------------------- 0.3/11.7 MB ? eta -:--:--\n",
      "   - -------------------------------------- 0.5/11.7 MB 577.4 kB/s eta 0:00:20\n",
      "   - -------------------------------------- 0.5/11.7 MB 577.4 kB/s eta 0:00:20\n",
      "   - -------------------------------------- 0.5/11.7 MB 577.4 kB/s eta 0:00:20\n",
      "   -- ------------------------------------- 0.8/11.7 MB 493.2 kB/s eta 0:00:23\n",
      "   -- ------------------------------------- 0.8/11.7 MB 493.2 kB/s eta 0:00:23\n",
      "   -- ------------------------------------- 0.8/11.7 MB 493.2 kB/s eta 0:00:23\n",
      "   -- ------------------------------------- 0.8/11.7 MB 493.2 kB/s eta 0:00:23\n",
      "   --- ------------------------------------ 1.0/11.7 MB 426.5 kB/s eta 0:00:25\n",
      "   ---- ----------------------------------- 1.3/11.7 MB 482.8 kB/s eta 0:00:22\n",
      "   ---- ----------------------------------- 1.3/11.7 MB 482.8 kB/s eta 0:00:22\n",
      "   ----- ---------------------------------- 1.6/11.7 MB 490.5 kB/s eta 0:00:21\n",
      "   ----- ---------------------------------- 1.6/11.7 MB 490.5 kB/s eta 0:00:21\n",
      "   ----- ---------------------------------- 1.6/11.7 MB 490.5 kB/s eta 0:00:21\n",
      "   ----- ---------------------------------- 1.6/11.7 MB 490.5 kB/s eta 0:00:21\n",
      "   ----- ---------------------------------- 1.6/11.7 MB 490.5 kB/s eta 0:00:21\n",
      "   ----- ---------------------------------- 1.6/11.7 MB 490.5 kB/s eta 0:00:21\n",
      "   ----- ---------------------------------- 1.6/11.7 MB 490.5 kB/s eta 0:00:21\n",
      "   ----- ---------------------------------- 1.6/11.7 MB 490.5 kB/s eta 0:00:21\n",
      "   ----- ---------------------------------- 1.6/11.7 MB 490.5 kB/s eta 0:00:21\n",
      "   ------ --------------------------------- 1.8/11.7 MB 354.4 kB/s eta 0:00:28\n",
      "   ------ --------------------------------- 1.8/11.7 MB 354.4 kB/s eta 0:00:28\n",
      "   ------ --------------------------------- 1.8/11.7 MB 354.4 kB/s eta 0:00:28\n",
      "   ------- -------------------------------- 2.1/11.7 MB 359.1 kB/s eta 0:00:27\n",
      "   ------- -------------------------------- 2.1/11.7 MB 359.1 kB/s eta 0:00:27\n",
      "   ------- -------------------------------- 2.1/11.7 MB 359.1 kB/s eta 0:00:27\n",
      "   ------- -------------------------------- 2.1/11.7 MB 359.1 kB/s eta 0:00:27\n",
      "   -------- ------------------------------- 2.4/11.7 MB 346.8 kB/s eta 0:00:27\n",
      "   -------- ------------------------------- 2.4/11.7 MB 346.8 kB/s eta 0:00:27\n",
      "   -------- ------------------------------- 2.6/11.7 MB 360.4 kB/s eta 0:00:26\n",
      "   -------- ------------------------------- 2.6/11.7 MB 360.4 kB/s eta 0:00:26\n",
      "   --------- ------------------------------ 2.9/11.7 MB 379.5 kB/s eta 0:00:24\n",
      "   --------- ------------------------------ 2.9/11.7 MB 379.5 kB/s eta 0:00:24\n",
      "   ---------- ----------------------------- 3.1/11.7 MB 394.3 kB/s eta 0:00:22\n",
      "   ----------- ---------------------------- 3.4/11.7 MB 415.1 kB/s eta 0:00:20\n",
      "   ----------- ---------------------------- 3.4/11.7 MB 415.1 kB/s eta 0:00:20\n",
      "   ------------ --------------------------- 3.7/11.7 MB 428.4 kB/s eta 0:00:19\n",
      "   ------------ --------------------------- 3.7/11.7 MB 428.4 kB/s eta 0:00:19\n",
      "   ------------- -------------------------- 3.9/11.7 MB 439.8 kB/s eta 0:00:18\n",
      "   ------------- -------------------------- 3.9/11.7 MB 439.8 kB/s eta 0:00:18\n",
      "   -------------- ------------------------- 4.2/11.7 MB 447.0 kB/s eta 0:00:17\n",
      "   -------------- ------------------------- 4.2/11.7 MB 447.0 kB/s eta 0:00:17\n",
      "   --------------- ------------------------ 4.5/11.7 MB 455.0 kB/s eta 0:00:16\n",
      "   --------------- ------------------------ 4.5/11.7 MB 455.0 kB/s eta 0:00:16\n",
      "   ---------------- ----------------------- 4.7/11.7 MB 463.7 kB/s eta 0:00:16\n",
      "   ---------------- ----------------------- 4.7/11.7 MB 463.7 kB/s eta 0:00:16\n",
      "   ----------------- ---------------------- 5.0/11.7 MB 465.3 kB/s eta 0:00:15\n",
      "   ----------------- ---------------------- 5.0/11.7 MB 465.3 kB/s eta 0:00:15\n",
      "   ----------------- ---------------------- 5.2/11.7 MB 470.8 kB/s eta 0:00:14\n",
      "   ----------------- ---------------------- 5.2/11.7 MB 470.8 kB/s eta 0:00:14\n",
      "   ------------------ --------------------- 5.5/11.7 MB 472.6 kB/s eta 0:00:14\n",
      "   ------------------ --------------------- 5.5/11.7 MB 472.6 kB/s eta 0:00:14\n",
      "   ------------------ --------------------- 5.5/11.7 MB 472.6 kB/s eta 0:00:14\n",
      "   ------------------ --------------------- 5.5/11.7 MB 472.6 kB/s eta 0:00:14\n",
      "   ------------------ --------------------- 5.5/11.7 MB 472.6 kB/s eta 0:00:14\n",
      "   ------------------- -------------------- 5.8/11.7 MB 457.0 kB/s eta 0:00:13\n",
      "   ------------------- -------------------- 5.8/11.7 MB 457.0 kB/s eta 0:00:13\n",
      "   ------------------- -------------------- 5.8/11.7 MB 457.0 kB/s eta 0:00:13\n",
      "   -------------------- ------------------- 6.0/11.7 MB 456.8 kB/s eta 0:00:13\n",
      "   -------------------- ------------------- 6.0/11.7 MB 456.8 kB/s eta 0:00:13\n",
      "   -------------------- ------------------- 6.0/11.7 MB 456.8 kB/s eta 0:00:13\n",
      "   --------------------- ------------------ 6.3/11.7 MB 453.9 kB/s eta 0:00:12\n",
      "   --------------------- ------------------ 6.3/11.7 MB 453.9 kB/s eta 0:00:12\n",
      "   ---------------------- ----------------- 6.6/11.7 MB 459.1 kB/s eta 0:00:12\n",
      "   ---------------------- ----------------- 6.6/11.7 MB 459.1 kB/s eta 0:00:12\n",
      "   ---------------------- ----------------- 6.6/11.7 MB 459.1 kB/s eta 0:00:12\n",
      "   ---------------------- ----------------- 6.6/11.7 MB 459.1 kB/s eta 0:00:12\n",
      "   ----------------------- ---------------- 6.8/11.7 MB 445.7 kB/s eta 0:00:11\n",
      "   ----------------------- ---------------- 6.8/11.7 MB 445.7 kB/s eta 0:00:11\n",
      "   ----------------------- ---------------- 6.8/11.7 MB 445.7 kB/s eta 0:00:11\n",
      "   ----------------------- ---------------- 6.8/11.7 MB 445.7 kB/s eta 0:00:11\n",
      "   ----------------------- ---------------- 6.8/11.7 MB 445.7 kB/s eta 0:00:11\n",
      "   ----------------------- ---------------- 6.8/11.7 MB 445.7 kB/s eta 0:00:11\n",
      "   ----------------------- ---------------- 6.8/11.7 MB 445.7 kB/s eta 0:00:11\n",
      "   ----------------------- ---------------- 6.8/11.7 MB 445.7 kB/s eta 0:00:11\n",
      "   ----------------------- ---------------- 6.8/11.7 MB 445.7 kB/s eta 0:00:11\n",
      "   ----------------------- ---------------- 6.8/11.7 MB 445.7 kB/s eta 0:00:11\n",
      "   ----------------------- ---------------- 6.8/11.7 MB 445.7 kB/s eta 0:00:11\n",
      "   ----------------------- ---------------- 6.8/11.7 MB 445.7 kB/s eta 0:00:11\n",
      "   ----------------------- ---------------- 6.8/11.7 MB 445.7 kB/s eta 0:00:11\n",
      "   ----------------------- ---------------- 6.8/11.7 MB 445.7 kB/s eta 0:00:11\n",
      "   ----------------------- ---------------- 6.8/11.7 MB 445.7 kB/s eta 0:00:11\n",
      "   ------------------------ --------------- 7.1/11.7 MB 383.3 kB/s eta 0:00:13\n",
      "   ------------------------ --------------- 7.1/11.7 MB 383.3 kB/s eta 0:00:13\n",
      "   ------------------------ --------------- 7.1/11.7 MB 383.3 kB/s eta 0:00:13\n",
      "   ------------------------ --------------- 7.1/11.7 MB 383.3 kB/s eta 0:00:13\n",
      "   ------------------------ --------------- 7.1/11.7 MB 383.3 kB/s eta 0:00:13\n",
      "   ------------------------ --------------- 7.1/11.7 MB 383.3 kB/s eta 0:00:13\n",
      "   ------------------------ --------------- 7.1/11.7 MB 383.3 kB/s eta 0:00:13\n",
      "   ------------------------- -------------- 7.3/11.7 MB 364.4 kB/s eta 0:00:12\n",
      "   ------------------------- -------------- 7.3/11.7 MB 364.4 kB/s eta 0:00:12\n",
      "   ------------------------- -------------- 7.3/11.7 MB 364.4 kB/s eta 0:00:12\n",
      "   ------------------------- -------------- 7.3/11.7 MB 364.4 kB/s eta 0:00:12\n",
      "   ------------------------- -------------- 7.3/11.7 MB 364.4 kB/s eta 0:00:12\n",
      "   ------------------------- -------------- 7.3/11.7 MB 364.4 kB/s eta 0:00:12\n",
      "   ------------------------- -------------- 7.6/11.7 MB 355.6 kB/s eta 0:00:12\n",
      "   ------------------------- -------------- 7.6/11.7 MB 355.6 kB/s eta 0:00:12\n",
      "   -------------------------- ------------- 7.9/11.7 MB 361.7 kB/s eta 0:00:11\n",
      "   --------------------------- ------------ 8.1/11.7 MB 369.5 kB/s eta 0:00:10\n",
      "   --------------------------- ------------ 8.1/11.7 MB 369.5 kB/s eta 0:00:10\n",
      "   --------------------------- ------------ 8.1/11.7 MB 369.5 kB/s eta 0:00:10\n",
      "   --------------------------- ------------ 8.1/11.7 MB 369.5 kB/s eta 0:00:10\n",
      "   --------------------------- ------------ 8.1/11.7 MB 369.5 kB/s eta 0:00:10\n",
      "   --------------------------- ------------ 8.1/11.7 MB 369.5 kB/s eta 0:00:10\n",
      "   ---------------------------- ----------- 8.4/11.7 MB 361.4 kB/s eta 0:00:10\n",
      "   ---------------------------- ----------- 8.4/11.7 MB 361.4 kB/s eta 0:00:10\n",
      "   ----------------------------- ---------- 8.7/11.7 MB 364.7 kB/s eta 0:00:09\n",
      "   ----------------------------- ---------- 8.7/11.7 MB 364.7 kB/s eta 0:00:09\n",
      "   ------------------------------ --------- 8.9/11.7 MB 371.1 kB/s eta 0:00:08\n",
      "   ------------------------------- -------- 9.2/11.7 MB 377.0 kB/s eta 0:00:07\n",
      "   ------------------------------- -------- 9.2/11.7 MB 377.0 kB/s eta 0:00:07\n",
      "   -------------------------------- ------- 9.4/11.7 MB 383.5 kB/s eta 0:00:06\n",
      "   -------------------------------- ------- 9.4/11.7 MB 383.5 kB/s eta 0:00:06\n",
      "   --------------------------------- ------ 9.7/11.7 MB 384.9 kB/s eta 0:00:06\n",
      "   --------------------------------- ------ 9.7/11.7 MB 384.9 kB/s eta 0:00:06\n",
      "   --------------------------------- ------ 9.7/11.7 MB 384.9 kB/s eta 0:00:06\n",
      "   --------------------------------- ------ 9.7/11.7 MB 384.9 kB/s eta 0:00:06\n",
      "   ---------------------------------- ----- 10.0/11.7 MB 384.1 kB/s eta 0:00:05\n",
      "   ---------------------------------- ----- 10.2/11.7 MB 389.4 kB/s eta 0:00:04\n",
      "   ----------------------------------- ---- 10.5/11.7 MB 396.5 kB/s eta 0:00:04\n",
      "   ------------------------------------ --- 10.7/11.7 MB 402.8 kB/s eta 0:00:03\n",
      "   ------------------------------------ --- 10.7/11.7 MB 402.8 kB/s eta 0:00:03\n",
      "   ------------------------------------- -- 11.0/11.7 MB 407.3 kB/s eta 0:00:02\n",
      "   ------------------------------------- -- 11.0/11.7 MB 407.3 kB/s eta 0:00:02\n",
      "   ------------------------------------- -- 11.0/11.7 MB 407.3 kB/s eta 0:00:02\n",
      "   ------------------------------------- -- 11.0/11.7 MB 407.3 kB/s eta 0:00:02\n",
      "   ------------------------------------- -- 11.0/11.7 MB 407.3 kB/s eta 0:00:02\n",
      "   ------------------------------------- -- 11.0/11.7 MB 407.3 kB/s eta 0:00:02\n",
      "   ------------------------------------- -- 11.0/11.7 MB 407.3 kB/s eta 0:00:02\n",
      "   ------------------------------------- -- 11.0/11.7 MB 407.3 kB/s eta 0:00:02\n",
      "   ------------------------------------- -- 11.0/11.7 MB 407.3 kB/s eta 0:00:02\n",
      "   -------------------------------------- - 11.3/11.7 MB 390.4 kB/s eta 0:00:02\n",
      "   -------------------------------------- - 11.3/11.7 MB 390.4 kB/s eta 0:00:02\n",
      "   ---------------------------------------  11.5/11.7 MB 391.6 kB/s eta 0:00:01\n",
      "   ---------------------------------------  11.5/11.7 MB 391.6 kB/s eta 0:00:01\n",
      "   ---------------------------------------- 11.7/11.7 MB 393.1 kB/s eta 0:00:00\n",
      "Installing collected packages: spacy\n",
      "  Attempting uninstall: spacy\n",
      "    Found existing installation: spacy 3.7.5\n",
      "    Uninstalling spacy-3.7.5:\n",
      "      Successfully uninstalled spacy-3.7.5\n",
      "Successfully installed spacy-3.7.6\n"
     ]
    }
   ],
   "source": [
    "!pip install -U spacy"
   ]
  },
  {
   "cell_type": "code",
   "execution_count": 49,
   "metadata": {},
   "outputs": [
    {
     "name": "stderr",
     "output_type": "stream",
     "text": [
      "'pyhon' is not recognized as an internal or external command,\n",
      "operable program or batch file.\n"
     ]
    }
   ],
   "source": [
    "!pyhon -m spacy download en_core_web_sm"
   ]
  },
  {
   "cell_type": "code",
   "execution_count": 50,
   "metadata": {},
   "outputs": [],
   "source": [
    "import spacy\n",
    "from spacy.lang.en.stop_words import STOP_WORDS\n",
    "from string import punctuation"
   ]
  },
  {
   "cell_type": "code",
   "execution_count": 51,
   "metadata": {},
   "outputs": [
    {
     "data": {
      "text/plain": [
       "'!\"#$%&\\'()*+,-./:;<=>?@[\\\\]^_`{|}~'"
      ]
     },
     "execution_count": 51,
     "metadata": {},
     "output_type": "execute_result"
    }
   ],
   "source": [
    "punctuation"
   ]
  },
  {
   "cell_type": "code",
   "execution_count": 52,
   "metadata": {},
   "outputs": [
    {
     "data": {
      "text/plain": [
       "'I reached the pinnacle of success in the business world. In others’ eyes, my life is the epitome of success. However, aside from work, I have little joy. In the end, my wealth is only a fact of life that I am accustomed to. At this moment, lying on my bed and recalling my life, I realize that all the recognition and wealth that I took so much pride in have paled and become meaningless in the face of my death.\\n\\nYou can employ someone to drive the car for you, make money for you, but you cannot have someone bear your sickness for you. Material things lost can be found or replaced. But there is one thing that can never be found when lost—Life. Whichever stage in life you’re in right now, with time, you will face the day when the curtain falls.\\n\\nTreasure love for your family, love for your spouse, love for your friends. Treat yourself well and cherish others. As we grow older, and hopefully wiser, we realize that a $3000 or a $30 watch both tell the same time. You will realize that your true inner happiness does not come from the material things of this world. Whether you fly first class or economy, if the plane goes down—you go down with it.\\n\\nTherefore, I hope you realize, when you have mates, buddies and old friends, brothers and sisters, who you chat with, laugh with, talk with, sing with, talk about north-south-east-west or heaven and earth, that is true happiness. Don’t educate your children to be rich. Educate them to be happy. So when they grow up they will know the value of things and not the price.\\n\\nEat your food as your medicine, otherwise, you have to eat medicine as your food.\\n\\nThe One who loves you will never leave you for another because, even if there are 100 reasons to give up, he or she will find a reason to hold on. There is a big difference between a human being and being human. Only a few really understand it. You are loved when you are born. You will be loved when you die. In between, you have to manage.\\n\\nThe six best doctors in the world are sunlight, rest, exercise, diet, self-confidence, and friends. Maintain them in all stages and enjoy a healthy life.'"
      ]
     },
     "execution_count": 52,
     "metadata": {},
     "output_type": "execute_result"
    }
   ],
   "source": [
    "steve"
   ]
  },
  {
   "cell_type": "code",
   "execution_count": 53,
   "metadata": {},
   "outputs": [],
   "source": [
    "nlpp=spacy.load('en_core_web_md')"
   ]
  },
  {
   "cell_type": "code",
   "execution_count": 54,
   "metadata": {},
   "outputs": [],
   "source": [
    "doc=nlpp(steve)"
   ]
  },
  {
   "cell_type": "code",
   "execution_count": 55,
   "metadata": {},
   "outputs": [
    {
     "data": {
      "text/plain": [
       "I reached the pinnacle of success in the business world. In others’ eyes, my life is the epitome of success. However, aside from work, I have little joy. In the end, my wealth is only a fact of life that I am accustomed to. At this moment, lying on my bed and recalling my life, I realize that all the recognition and wealth that I took so much pride in have paled and become meaningless in the face of my death.\n",
       "\n",
       "You can employ someone to drive the car for you, make money for you, but you cannot have someone bear your sickness for you. Material things lost can be found or replaced. But there is one thing that can never be found when lost—Life. Whichever stage in life you’re in right now, with time, you will face the day when the curtain falls.\n",
       "\n",
       "Treasure love for your family, love for your spouse, love for your friends. Treat yourself well and cherish others. As we grow older, and hopefully wiser, we realize that a $3000 or a $30 watch both tell the same time. You will realize that your true inner happiness does not come from the material things of this world. Whether you fly first class or economy, if the plane goes down—you go down with it.\n",
       "\n",
       "Therefore, I hope you realize, when you have mates, buddies and old friends, brothers and sisters, who you chat with, laugh with, talk with, sing with, talk about north-south-east-west or heaven and earth, that is true happiness. Don’t educate your children to be rich. Educate them to be happy. So when they grow up they will know the value of things and not the price.\n",
       "\n",
       "Eat your food as your medicine, otherwise, you have to eat medicine as your food.\n",
       "\n",
       "The One who loves you will never leave you for another because, even if there are 100 reasons to give up, he or she will find a reason to hold on. There is a big difference between a human being and being human. Only a few really understand it. You are loved when you are born. You will be loved when you die. In between, you have to manage.\n",
       "\n",
       "The six best doctors in the world are sunlight, rest, exercise, diet, self-confidence, and friends. Maintain them in all stages and enjoy a healthy life."
      ]
     },
     "execution_count": 55,
     "metadata": {},
     "output_type": "execute_result"
    }
   ],
   "source": [
    "doc"
   ]
  },
  {
   "cell_type": "code",
   "execution_count": 56,
   "metadata": {},
   "outputs": [],
   "source": [
    "stopwords = list(STOP_WORDS)"
   ]
  },
  {
   "cell_type": "code",
   "execution_count": 57,
   "metadata": {},
   "outputs": [
    {
     "name": "stdout",
     "output_type": "stream",
     "text": [
      "The most frequent word appeared 6 times.\n"
     ]
    }
   ],
   "source": [
    "punctuation = punctuation + '\\n' \n",
    "word_frequencies = {}\n",
    "for word in doc:\n",
    "    if word.text.lower() not in stopwords:\n",
    "        if word.text.lower() not in punctuation:\n",
    "            if word.text not in word_frequencies.keys():\n",
    "                word_frequencies[word.text] = 1\n",
    "            else:\n",
    "                word_frequencies[word.text] += 1\n",
    "max_frequency = max(word_frequencies.values())\n",
    "print(\"The most frequent word appeared {} times.\".format(max_frequency))"
   ]
  },
  {
   "cell_type": "code",
   "execution_count": 58,
   "metadata": {},
   "outputs": [
    {
     "data": {
      "text/plain": [
       "{'reached': 1,\n",
       " 'pinnacle': 1,\n",
       " 'success': 2,\n",
       " 'business': 1,\n",
       " 'world': 3,\n",
       " '’': 1,\n",
       " 'eyes': 1,\n",
       " 'life': 5,\n",
       " 'epitome': 1,\n",
       " 'aside': 1,\n",
       " 'work': 1,\n",
       " 'little': 1,\n",
       " 'joy': 1,\n",
       " 'end': 1,\n",
       " 'wealth': 2,\n",
       " 'fact': 1,\n",
       " 'accustomed': 1,\n",
       " 'moment': 1,\n",
       " 'lying': 1,\n",
       " 'bed': 1,\n",
       " 'recalling': 1,\n",
       " 'realize': 4,\n",
       " 'recognition': 1,\n",
       " 'took': 1,\n",
       " 'pride': 1,\n",
       " 'paled': 1,\n",
       " 'meaningless': 1,\n",
       " 'face': 2,\n",
       " 'death': 1,\n",
       " '\\n\\n': 6,\n",
       " 'employ': 1,\n",
       " 'drive': 1,\n",
       " 'car': 1,\n",
       " 'money': 1,\n",
       " 'bear': 1,\n",
       " 'sickness': 1,\n",
       " 'Material': 1,\n",
       " 'things': 3,\n",
       " 'lost': 2,\n",
       " 'found': 2,\n",
       " 'replaced': 1,\n",
       " 'thing': 1,\n",
       " '—': 2,\n",
       " 'Life': 1,\n",
       " 'Whichever': 1,\n",
       " 'stage': 1,\n",
       " 'right': 1,\n",
       " 'time': 2,\n",
       " 'day': 1,\n",
       " 'curtain': 1,\n",
       " 'falls': 1,\n",
       " 'Treasure': 1,\n",
       " 'love': 3,\n",
       " 'family': 1,\n",
       " 'spouse': 1,\n",
       " 'friends': 3,\n",
       " 'Treat': 1,\n",
       " 'cherish': 1,\n",
       " 'grow': 2,\n",
       " 'older': 1,\n",
       " 'hopefully': 1,\n",
       " 'wiser': 1,\n",
       " '3000': 1,\n",
       " '30': 1,\n",
       " 'watch': 1,\n",
       " 'tell': 1,\n",
       " 'true': 2,\n",
       " 'inner': 1,\n",
       " 'happiness': 2,\n",
       " 'come': 1,\n",
       " 'material': 1,\n",
       " 'fly': 1,\n",
       " 'class': 1,\n",
       " 'economy': 1,\n",
       " 'plane': 1,\n",
       " 'goes': 1,\n",
       " 'hope': 1,\n",
       " 'mates': 1,\n",
       " 'buddies': 1,\n",
       " 'old': 1,\n",
       " 'brothers': 1,\n",
       " 'sisters': 1,\n",
       " 'chat': 1,\n",
       " 'laugh': 1,\n",
       " 'talk': 2,\n",
       " 'sing': 1,\n",
       " 'north': 1,\n",
       " 'south': 1,\n",
       " 'east': 1,\n",
       " 'west': 1,\n",
       " 'heaven': 1,\n",
       " 'earth': 1,\n",
       " 'educate': 1,\n",
       " 'children': 1,\n",
       " 'rich': 1,\n",
       " 'Educate': 1,\n",
       " 'happy': 1,\n",
       " 'know': 1,\n",
       " 'value': 1,\n",
       " 'price': 1,\n",
       " 'Eat': 1,\n",
       " 'food': 2,\n",
       " 'medicine': 2,\n",
       " 'eat': 1,\n",
       " 'loves': 1,\n",
       " 'leave': 1,\n",
       " '100': 1,\n",
       " 'reasons': 1,\n",
       " 'find': 1,\n",
       " 'reason': 1,\n",
       " 'hold': 1,\n",
       " 'big': 1,\n",
       " 'difference': 1,\n",
       " 'human': 2,\n",
       " 'understand': 1,\n",
       " 'loved': 2,\n",
       " 'born': 1,\n",
       " 'die': 1,\n",
       " 'manage': 1,\n",
       " 'best': 1,\n",
       " 'doctors': 1,\n",
       " 'sunlight': 1,\n",
       " 'rest': 1,\n",
       " 'exercise': 1,\n",
       " 'diet': 1,\n",
       " 'self': 1,\n",
       " 'confidence': 1,\n",
       " 'Maintain': 1,\n",
       " 'stages': 1,\n",
       " 'enjoy': 1,\n",
       " 'healthy': 1}"
      ]
     },
     "execution_count": 58,
     "metadata": {},
     "output_type": "execute_result"
    }
   ],
   "source": [
    "word_frequencies"
   ]
  },
  {
   "cell_type": "code",
   "execution_count": 59,
   "metadata": {},
   "outputs": [],
   "source": [
    "for word in word_frequencies.keys():\n",
    "    word_frequencies[word] = word_frequencies[word]/max_frequency"
   ]
  },
  {
   "cell_type": "code",
   "execution_count": 60,
   "metadata": {},
   "outputs": [
    {
     "name": "stdout",
     "output_type": "stream",
     "text": [
      "[I reached the pinnacle of success in the business world., In others’ eyes, my life is the epitome of success., However, aside from work, I have little joy., In the end, my wealth is only a fact of life that I am accustomed to., At this moment, lying on my bed and recalling my life, I realize that all the recognition and wealth that I took so much pride in have paled and become meaningless in the face of my death.\n",
      "\n",
      ", You can employ someone to drive the car for you, make money for you, but you cannot have someone bear your sickness for you., Material things lost can be found or replaced., But there is one thing that can never be found when lost—Life., Whichever stage in life you’re in right now, with time, you will face the day when the curtain falls.\n",
      "\n",
      ", Treasure love for your family, love for your spouse, love for your friends., Treat yourself well and cherish others., As we grow older, and hopefully wiser, we realize that a $3000 or a $30 watch both tell the same time., You will realize that your true inner happiness does not come from the material things of this world., Whether you fly first class or economy, if the plane goes down—you go down with it.\n",
      "\n",
      ", Therefore, I hope you realize, when you have mates, buddies and old friends, brothers and sisters, who you chat with, laugh with, talk with, sing with, talk about north-south-east-west or heaven and earth, that is true happiness., Don’t educate your children to be rich., Educate them to be happy., So when they grow up they will know the value of things and not the price.\n",
      "\n",
      ", Eat your food as your medicine, otherwise, you have to eat medicine as your food.\n",
      "\n",
      ", The One who loves you will never leave you for another because, even if there are 100 reasons to give up, he or she will find a reason to hold on., There is a big difference between a human being and being human., Only a few really understand it., You are loved when you are born., You will be loved when you die., In between, you have to manage.\n",
      "\n",
      ", The six best doctors in the world are sunlight, rest, exercise, diet, self-confidence, and friends., Maintain them in all stages and enjoy a healthy life.]\n"
     ]
    }
   ],
   "source": [
    "sentence_tokens = [sent for sent in doc.sents]\n",
    "print(sentence_tokens)"
   ]
  },
  {
   "cell_type": "code",
   "execution_count": 61,
   "metadata": {},
   "outputs": [
    {
     "data": {
      "text/plain": [
       "{I reached the pinnacle of success in the business world.: 1.3333333333333333,\n",
       " In others’ eyes, my life is the epitome of success.: 1.6666666666666667,\n",
       " However, aside from work, I have little joy.: 0.6666666666666666,\n",
       " In the end, my wealth is only a fact of life that I am accustomed to.: 1.6666666666666667,\n",
       " At this moment, lying on my bed and recalling my life, I realize that all the recognition and wealth that I took so much pride in have paled and become meaningless in the face of my death.\n",
       " : 4.833333333333332,\n",
       " You can employ someone to drive the car for you, make money for you, but you cannot have someone bear your sickness for you.: 0.9999999999999999,\n",
       " Material things lost can be found or replaced.: 1.5,\n",
       " But there is one thing that can never be found when lost—Life.: 2.0,\n",
       " Whichever stage in life you’re in right now, with time, you will face the day when the curtain falls.\n",
       " : 3.333333333333333,\n",
       " Treasure love for your family, love for your spouse, love for your friends.: 2.333333333333333,\n",
       " Treat yourself well and cherish others.: 0.16666666666666666,\n",
       " As we grow older, and hopefully wiser, we realize that a $3000 or a $30 watch both tell the same time.: 2.5,\n",
       " You will realize that your true inner happiness does not come from the material things of this world.: 2.8333333333333335,\n",
       " Whether you fly first class or economy, if the plane goes down—you go down with it.\n",
       " : 2.1666666666666665,\n",
       " Therefore, I hope you realize, when you have mates, buddies and old friends, brothers and sisters, who you chat with, laugh with, talk with, sing with, talk about north-south-east-west or heaven and earth, that is true happiness.: 4.999999999999999,\n",
       " Don’t educate your children to be rich.: 0.5,\n",
       " Educate them to be happy.: 0.3333333333333333,\n",
       " So when they grow up they will know the value of things and not the price.\n",
       " : 2.333333333333333,\n",
       " Eat your food as your medicine, otherwise, you have to eat medicine as your food.\n",
       " : 2.6666666666666665,\n",
       " The One who loves you will never leave you for another because, even if there are 100 reasons to give up, he or she will find a reason to hold on.: 1.1666666666666665,\n",
       " There is a big difference between a human being and being human.: 1.0,\n",
       " Only a few really understand it.: 0.16666666666666666,\n",
       " You are loved when you are born.: 0.5,\n",
       " You will be loved when you die.: 0.5,\n",
       " In between, you have to manage.\n",
       " : 1.1666666666666667,\n",
       " The six best doctors in the world are sunlight, rest, exercise, diet, self-confidence, and friends.: 2.3333333333333335,\n",
       " Maintain them in all stages and enjoy a healthy life.: 1.3333333333333335}"
      ]
     },
     "execution_count": 61,
     "metadata": {},
     "output_type": "execute_result"
    }
   ],
   "source": [
    "sentence_scores = {}\n",
    "for sent in sentence_tokens:\n",
    "    for word in sent:\n",
    "        if word.text.lower() in word_frequencies.keys():\n",
    "            if sent not in sentence_scores.keys():\n",
    "                sentence_scores[sent] = word_frequencies[word.text.lower()]\n",
    "            else:\n",
    "                sentence_scores[sent] += word_frequencies[word.text.lower()]\n",
    "sentence_scores"
   ]
  },
  {
   "cell_type": "code",
   "execution_count": 62,
   "metadata": {},
   "outputs": [],
   "source": [
    "from heapq import nlargest"
   ]
  },
  {
   "cell_type": "code",
   "execution_count": 63,
   "metadata": {},
   "outputs": [
    {
     "data": {
      "text/plain": [
       "5"
      ]
     },
     "execution_count": 63,
     "metadata": {},
     "output_type": "execute_result"
    }
   ],
   "source": [
    "select_length = int(len(sentence_tokens)*0.2)\n",
    "select_length"
   ]
  },
  {
   "cell_type": "code",
   "execution_count": 64,
   "metadata": {},
   "outputs": [
    {
     "data": {
      "text/plain": [
       "[Therefore, I hope you realize, when you have mates, buddies and old friends, brothers and sisters, who you chat with, laugh with, talk with, sing with, talk about north-south-east-west or heaven and earth, that is true happiness.,\n",
       " At this moment, lying on my bed and recalling my life, I realize that all the recognition and wealth that I took so much pride in have paled and become meaningless in the face of my death.\n",
       " ,\n",
       " Whichever stage in life you’re in right now, with time, you will face the day when the curtain falls.\n",
       " ,\n",
       " You will realize that your true inner happiness does not come from the material things of this world.,\n",
       " Eat your food as your medicine, otherwise, you have to eat medicine as your food.\n",
       " ]"
      ]
     },
     "execution_count": 64,
     "metadata": {},
     "output_type": "execute_result"
    }
   ],
   "source": [
    "summary = nlargest(select_length, sentence_scores, key = sentence_scores.get)\n",
    "summary"
   ]
  },
  {
   "cell_type": "code",
   "execution_count": 65,
   "metadata": {},
   "outputs": [
    {
     "name": "stdout",
     "output_type": "stream",
     "text": [
      "Therefore, I hope you realize, when you have mates, buddies and old friends, brothers and sisters, who you chat with, laugh with, talk with, sing with, talk about north-south-east-west or heaven and earth, that is true happiness. At this moment, lying on my bed and recalling my life, I realize that all the recognition and wealth that I took so much pride in have paled and become meaningless in the face of my death.\n",
      "\n",
      " Whichever stage in life you’re in right now, with time, you will face the day when the curtain falls.\n",
      "\n",
      " You will realize that your true inner happiness does not come from the material things of this world. Eat your food as your medicine, otherwise, you have to eat medicine as your food.\n",
      "\n",
      "\n"
     ]
    }
   ],
   "source": [
    "final_summary = [word.text for word in summary]\n",
    "summary = ' '.join(final_summary)\n",
    "print(summary)"
   ]
  },
  {
   "cell_type": "code",
   "execution_count": 66,
   "metadata": {},
   "outputs": [
    {
     "name": "stdout",
     "output_type": "stream",
     "text": [
      "Word count of the original paper:  2109\n",
      "Word count after summerization:  710\n"
     ]
    }
   ],
   "source": [
    "print(\"Word count of the original paper: \", len(steve))\n",
    "print(\"Word count after summerization: \", len(summary))"
   ]
  },
  {
   "cell_type": "code",
   "execution_count": null,
   "metadata": {},
   "outputs": [],
   "source": []
  },
  {
   "cell_type": "code",
   "execution_count": null,
   "metadata": {},
   "outputs": [],
   "source": []
  }
 ],
 "metadata": {
  "kernelspec": {
   "display_name": "Python 3",
   "language": "python",
   "name": "python3"
  },
  "language_info": {
   "codemirror_mode": {
    "name": "ipython",
    "version": 3
   },
   "file_extension": ".py",
   "mimetype": "text/x-python",
   "name": "python",
   "nbconvert_exporter": "python",
   "pygments_lexer": "ipython3",
   "version": "3.12.4"
  }
 },
 "nbformat": 4,
 "nbformat_minor": 2
}
